{
 "cells": [
  {
   "cell_type": "code",
   "execution_count": 166,
   "metadata": {
    "collapsed": true
   },
   "outputs": [],
   "source": [
    "# Libraries\n",
    "import numpy as np\n",
    "import pandas as pd\n",
    "import math"
   ]
  },
  {
   "cell_type": "code",
   "execution_count": 167,
   "metadata": {
    "collapsed": true
   },
   "outputs": [],
   "source": [
    "# List of all runner spreadsheets\n",
    "fnames = ['data/RunnerData1.xlsx', 'data/RunnerData2.xlsx', 'data/RunnerData3.xlsx', 'data/RunnerData4.xlsx']"
   ]
  },
  {
   "cell_type": "code",
   "execution_count": 168,
   "metadata": {
    "collapsed": true
   },
   "outputs": [],
   "source": [
    "# Function to return cleaned data set\n",
    "def clean_data(fname):\n",
    "    frames = []\n",
    "    sheets = pd.read_excel(fname, sheet_name=None)\n",
    "    # For each sheet (year)\n",
    "    for key, val in sheets.iteritems():\n",
    "        print key\n",
    "        dat = sheets[key]\n",
    "        dat = dat[(dat['Date'] != 'Total') & (dat['Date'] == dat['Date'])]\n",
    "        dat = dat.drop(dat.columns[[2,3,4,5,7]], axis=1)\n",
    "        #print dat.columns\n",
    "        dat.columns = ['date', 'run_dist', 'notes']\n",
    "        \n",
    "        # Include distance and notes for next day\n",
    "        rd1 = np.full(dat.shape[0], None)\n",
    "        notes1 = np.full(dat.shape[0], None)\n",
    "        for i in range(1,dat.shape[0]):\n",
    "            rd1[i-1] = dat['run_dist'].iloc[i]\n",
    "            notes1[i-1] = dat['notes'].iloc[i]\n",
    "            #dat_mini['notes_1'].iloc[i+1] = dat_mini['notes'].iloc[i]\n",
    "        \n",
    "        dat['run_dist_1'] = rd1\n",
    "        dat['notes_1'] = notes1\n",
    "        \n",
    "        # Remove any rows that have a blank\n",
    "        dat = dat.dropna(axis=0, how='any')\n",
    "        frames.append(dat)\n",
    "        \n",
    "    result = pd.concat(frames)\n",
    "    return result"
   ]
  },
  {
   "cell_type": "code",
   "execution_count": 160,
   "metadata": {
    "collapsed": false
   },
   "outputs": [
    {
     "name": "stdout",
     "output_type": "stream",
     "text": [
      "2016-17\n",
      "2015-16\n"
     ]
    }
   ],
   "source": [
    "a = clean_data(fnames[3])"
   ]
  },
  {
   "cell_type": "code",
   "execution_count": 169,
   "metadata": {
    "collapsed": false
   },
   "outputs": [
    {
     "name": "stdout",
     "output_type": "stream",
     "text": [
      "2016-17\n",
      "2015-16\n",
      "2014-15\n",
      "2015-16\n",
      "2014-15\n",
      "2017-18\n",
      "2016-17\n",
      "2015-16\n",
      "2016-17\n",
      "2015-16\n"
     ]
    }
   ],
   "source": [
    "# Concatenate all data into one dataframe\n",
    "df_list = []\n",
    "for fname in fnames:\n",
    "    df = clean_data(fname)\n",
    "    df_list.append(df)\n",
    "dat_full = pd.concat(df_list)"
   ]
  },
  {
   "cell_type": "code",
   "execution_count": 170,
   "metadata": {
    "collapsed": false
   },
   "outputs": [
    {
     "data": {
      "text/plain": [
       "(1972, 5)"
      ]
     },
     "execution_count": 170,
     "metadata": {},
     "output_type": "execute_result"
    }
   ],
   "source": [
    "dat_full.shape"
   ]
  },
  {
   "cell_type": "code",
   "execution_count": 171,
   "metadata": {
    "collapsed": true
   },
   "outputs": [],
   "source": [
    "# Export to excel\n",
    "dat_full.to_excel('running_data.xlsx')"
   ]
  },
  {
   "cell_type": "code",
   "execution_count": 172,
   "metadata": {
    "collapsed": false
   },
   "outputs": [
    {
     "data": {
      "text/html": [
       "<div>\n",
       "<style scoped>\n",
       "    .dataframe tbody tr th:only-of-type {\n",
       "        vertical-align: middle;\n",
       "    }\n",
       "\n",
       "    .dataframe tbody tr th {\n",
       "        vertical-align: top;\n",
       "    }\n",
       "\n",
       "    .dataframe thead th {\n",
       "        text-align: right;\n",
       "    }\n",
       "</style>\n",
       "<table border=\"1\" class=\"dataframe\">\n",
       "  <thead>\n",
       "    <tr style=\"text-align: right;\">\n",
       "      <th></th>\n",
       "      <th>date</th>\n",
       "      <th>run_dist</th>\n",
       "      <th>notes</th>\n",
       "      <th>run_dist_1</th>\n",
       "      <th>notes_1</th>\n",
       "    </tr>\n",
       "  </thead>\n",
       "  <tbody>\n",
       "    <tr>\n",
       "      <th>171</th>\n",
       "      <td>2016-10-10 00:00:00</td>\n",
       "      <td>10.0</td>\n",
       "      <td>AM: Warmup (2 miles), 2 sets of (80, 50, 50), ...</td>\n",
       "      <td>10</td>\n",
       "      <td>AM: Warmup (1.5 miles), Lift, Cooldown (2 mile...</td>\n",
       "    </tr>\n",
       "    <tr>\n",
       "      <th>225</th>\n",
       "      <td>2016-11-21 00:00:00</td>\n",
       "      <td>10.0</td>\n",
       "      <td>AM: Warmup (2 miles), 8x150 (Extensive Tempo),...</td>\n",
       "      <td>8</td>\n",
       "      <td>AM: Warmup (1.5 miles), Lift, Cooldown (1 mile...</td>\n",
       "    </tr>\n",
       "    <tr>\n",
       "      <th>226</th>\n",
       "      <td>2016-11-22 00:00:00</td>\n",
       "      <td>8.0</td>\n",
       "      <td>AM: Warmup (1.5 miles), Lift, Cooldown (1 mile...</td>\n",
       "      <td>11</td>\n",
       "      <td>AM: Warmup (2.5 miles), 8x300 with 2:30 rest (...</td>\n",
       "    </tr>\n",
       "    <tr>\n",
       "      <th>227</th>\n",
       "      <td>2016-11-23 00:00:00</td>\n",
       "      <td>11.0</td>\n",
       "      <td>AM: Warmup (2.5 miles), 8x300 with 2:30 rest (...</td>\n",
       "      <td>8</td>\n",
       "      <td>8 mile run. Not able to do squats or RDLs.</td>\n",
       "    </tr>\n",
       "    <tr>\n",
       "      <th>228</th>\n",
       "      <td>2016-11-24 00:00:00</td>\n",
       "      <td>8.0</td>\n",
       "      <td>8 mile run. Not able to do squats or RDLs.</td>\n",
       "      <td>10.5</td>\n",
       "      <td>AM: Warmup (2 miles), 5x800 with 1:45 rest (Go...</td>\n",
       "    </tr>\n",
       "  </tbody>\n",
       "</table>\n",
       "</div>"
      ],
      "text/plain": [
       "                    date  run_dist  \\\n",
       "171  2016-10-10 00:00:00      10.0   \n",
       "225  2016-11-21 00:00:00      10.0   \n",
       "226  2016-11-22 00:00:00       8.0   \n",
       "227  2016-11-23 00:00:00      11.0   \n",
       "228  2016-11-24 00:00:00       8.0   \n",
       "\n",
       "                                                 notes run_dist_1  \\\n",
       "171  AM: Warmup (2 miles), 2 sets of (80, 50, 50), ...         10   \n",
       "225  AM: Warmup (2 miles), 8x150 (Extensive Tempo),...          8   \n",
       "226  AM: Warmup (1.5 miles), Lift, Cooldown (1 mile...         11   \n",
       "227  AM: Warmup (2.5 miles), 8x300 with 2:30 rest (...          8   \n",
       "228         8 mile run. Not able to do squats or RDLs.       10.5   \n",
       "\n",
       "                                               notes_1  \n",
       "171  AM: Warmup (1.5 miles), Lift, Cooldown (2 mile...  \n",
       "225  AM: Warmup (1.5 miles), Lift, Cooldown (1 mile...  \n",
       "226  AM: Warmup (2.5 miles), 8x300 with 2:30 rest (...  \n",
       "227         8 mile run. Not able to do squats or RDLs.  \n",
       "228  AM: Warmup (2 miles), 5x800 with 1:45 rest (Go...  "
      ]
     },
     "execution_count": 172,
     "metadata": {},
     "output_type": "execute_result"
    }
   ],
   "source": [
    "dat_full.head()"
   ]
  },
  {
   "cell_type": "code",
   "execution_count": null,
   "metadata": {
    "collapsed": true
   },
   "outputs": [],
   "source": []
  }
 ],
 "metadata": {
  "anaconda-cloud": {},
  "kernelspec": {
   "display_name": "Python [Root]",
   "language": "python",
   "name": "Python [Root]"
  },
  "language_info": {
   "codemirror_mode": {
    "name": "ipython",
    "version": 2
   },
   "file_extension": ".py",
   "mimetype": "text/x-python",
   "name": "python",
   "nbconvert_exporter": "python",
   "pygments_lexer": "ipython2",
   "version": "2.7.12"
  }
 },
 "nbformat": 4,
 "nbformat_minor": 0
}
