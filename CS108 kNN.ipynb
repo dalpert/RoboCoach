{
 "cells": [
  {
   "cell_type": "code",
   "execution_count": 263,
   "metadata": {
    "collapsed": false
   },
   "outputs": [
    {
     "name": "stdout",
     "output_type": "stream",
     "text": [
      "2.7.12 |Anaconda custom (x86_64)| (default, Jul  2 2016, 17:43:17) \n",
      "[GCC 4.2.1 (Based on Apple Inc. build 5658) (LLVM build 2336.11.00)]\n",
      "sys.version_info(major=2, minor=7, micro=12, releaselevel='final', serial=0)\n"
     ]
    }
   ],
   "source": [
    "# Libraries\n",
    "import sys\n",
    "print sys.version\n",
    "print sys.version_info\n",
    "\n",
    "import numpy as np\n",
    "import pandas as pd\n",
    "\n",
    "from sklearn.model_selection import train_test_split\n",
    "from sklearn.neighbors import KNeighborsRegressor as KNN\n",
    "from sklearn.metrics import confusion_matrix\n",
    "\n",
    "import matplotlib\n",
    "import matplotlib.pyplot as plt\n",
    "%matplotlib inline"
   ]
  },
  {
   "cell_type": "markdown",
   "metadata": {},
   "source": [
    "## Data Import"
   ]
  },
  {
   "cell_type": "code",
   "execution_count": 264,
   "metadata": {
    "collapsed": false
   },
   "outputs": [],
   "source": [
    "dat_knn = pd.read_excel('dat_knn_2.xlsx')"
   ]
  },
  {
   "cell_type": "code",
   "execution_count": 265,
   "metadata": {
    "collapsed": false
   },
   "outputs": [
    {
     "data": {
      "text/html": [
       "<div>\n",
       "<style scoped>\n",
       "    .dataframe tbody tr th:only-of-type {\n",
       "        vertical-align: middle;\n",
       "    }\n",
       "\n",
       "    .dataframe tbody tr th {\n",
       "        vertical-align: top;\n",
       "    }\n",
       "\n",
       "    .dataframe thead th {\n",
       "        text-align: right;\n",
       "    }\n",
       "</style>\n",
       "<table border=\"1\" class=\"dataframe\">\n",
       "  <thead>\n",
       "    <tr style=\"text-align: right;\">\n",
       "      <th></th>\n",
       "      <th>run_dist</th>\n",
       "      <th>difficulty</th>\n",
       "      <th>is_workout</th>\n",
       "    </tr>\n",
       "  </thead>\n",
       "  <tbody>\n",
       "    <tr>\n",
       "      <th>171</th>\n",
       "      <td>10.0</td>\n",
       "      <td>3</td>\n",
       "      <td>1</td>\n",
       "    </tr>\n",
       "    <tr>\n",
       "      <th>225</th>\n",
       "      <td>10.0</td>\n",
       "      <td>1</td>\n",
       "      <td>1</td>\n",
       "    </tr>\n",
       "    <tr>\n",
       "      <th>226</th>\n",
       "      <td>8.0</td>\n",
       "      <td>2</td>\n",
       "      <td>0</td>\n",
       "    </tr>\n",
       "    <tr>\n",
       "      <th>227</th>\n",
       "      <td>11.0</td>\n",
       "      <td>4</td>\n",
       "      <td>1</td>\n",
       "    </tr>\n",
       "    <tr>\n",
       "      <th>228</th>\n",
       "      <td>8.0</td>\n",
       "      <td>3</td>\n",
       "      <td>0</td>\n",
       "    </tr>\n",
       "  </tbody>\n",
       "</table>\n",
       "</div>"
      ],
      "text/plain": [
       "     run_dist  difficulty  is_workout\n",
       "171      10.0           3           1\n",
       "225      10.0           1           1\n",
       "226       8.0           2           0\n",
       "227      11.0           4           1\n",
       "228       8.0           3           0"
      ]
     },
     "execution_count": 265,
     "metadata": {},
     "output_type": "execute_result"
    }
   ],
   "source": [
    "dat_knn[['run_dist', 'difficulty', 'is_workout']].head()"
   ]
  },
  {
   "cell_type": "markdown",
   "metadata": {},
   "source": [
    "## kNN Models"
   ]
  },
  {
   "cell_type": "code",
   "execution_count": 266,
   "metadata": {
    "collapsed": false
   },
   "outputs": [],
   "source": [
    "# Preliminary models\n",
    "train, test = train_test_split(dat_knn, test_size = 0.3)\n",
    "\n",
    "neighbors_run = KNN(n_neighbors=25)\n",
    "neighbors_run.fit(train[['run_dist', 'difficulty', 'is_workout']], train['run_dist_1'])\n",
    "y_pred_run = neighbors_run.predict(test[['run_dist', 'difficulty', 'is_workout']])\n",
    "r_run = neighbors_run.score(test[['run_dist', 'difficulty', 'is_workout']], test['run_dist_1'])\n",
    "\n",
    "neighbors_work = KNN(n_neighbors=10)\n",
    "neighbors_work.fit(train[['run_dist', 'difficulty', 'is_workout']], train['is_workout_1'])\n",
    "y_pred_work = neighbors_work.predict(test[['run_dist', 'difficulty', 'is_workout']])\n",
    "y_pred_work_bin = pd.Series(y_pred_work_w).map(round).values\n",
    "\n",
    "#r_work = neighbors_work.score(test[['run_dist', 'difficulty', 'is_workout']], test['is_workout_1'])"
   ]
  },
  {
   "cell_type": "code",
   "execution_count": 269,
   "metadata": {
    "collapsed": false
   },
   "outputs": [
    {
     "name": "stdout",
     "output_type": "stream",
     "text": [
      "Run distance R^2: 0.102\n",
      "Workout accuracy: 0.694256756757\n"
     ]
    }
   ],
   "source": [
    "print 'Run distance R^2:', str(round(r_run,3))\n",
    "#print(r_work)\n",
    "\n",
    "print 'Workout accuracy:', str(sum(y_pred_work_bin == test['is_workout_1'])/float(len(test['is_workout_1'])))"
   ]
  },
  {
   "cell_type": "code",
   "execution_count": 105,
   "metadata": {
    "collapsed": false
   },
   "outputs": [],
   "source": [
    "# Tuning for unweighted vs. weighted and optimal k\n",
    "avg_rsq_weight = [None]*150\n",
    "avg_rsq_unweight = [None]*150\n",
    "for k in range(150):\n",
    "    rsq_weight = [None]*20\n",
    "    rsq_unweight = [None]*20\n",
    "    for i in range(20):\n",
    "        train, test = train_test_split(dat_knn, test_size = 0.3)\n",
    "        # Unweighted\n",
    "        neighbors_run_un = KNN(n_neighbors=k+1)\n",
    "        neighbors_run_un.fit(train[['run_dist', 'difficulty', 'is_workout']], train['run_dist_1'])\n",
    "        y_pred_run_un = neighbors_run_un.predict(test[['run_dist', 'difficulty', 'is_workout']])\n",
    "        r_run_un = neighbors_run_un.score(test[['run_dist', 'difficulty', 'is_workout']], test['run_dist_1'])\n",
    "        rsq_unweight[i] = r_run_un\n",
    "        # Weighted\n",
    "        neighbors_run_w = KNN(n_neighbors=k+1, weights='distance')\n",
    "        neighbors_run_w.fit(train[['run_dist', 'difficulty', 'is_workout']], train['run_dist_1'])\n",
    "        y_pred_run_w = neighbors_run_w.predict(test[['run_dist', 'difficulty', 'is_workout']])\n",
    "        r_run_w = neighbors_run_w.score(test[['run_dist', 'difficulty', 'is_workout']], test['run_dist_1'])\n",
    "        rsq_weight[i] = r_run_w\n",
    "    avg_rsq_weight[k] = float(sum(rsq_weight))/len(rsq_weight)\n",
    "    avg_rsq_unweight[k] = float(sum(rsq_unweight))/len(rsq_unweight)"
   ]
  },
  {
   "cell_type": "code",
   "execution_count": 109,
   "metadata": {
    "collapsed": false
   },
   "outputs": [
    {
     "data": {
      "image/png": "[encoded data removed]",
      "text/plain": [
       "<matplotlib.figure.Figure at 0x10e191750>"
      ]
     },
     "metadata": {},
     "output_type": "display_data"
    }
   ],
   "source": [
    "# Plot optimal k\n",
    "plt.plot(range(1,151), avg_rsq_weight, c='b', label='Weighted')\n",
    "plt.plot(range(1,151), avg_rsq_unweight, c='r', label='Unweighted')\n",
    "plt.title('Distance: R-squared by kNN')\n",
    "plt.xlabel('Number of nearest neighbors (k)')\n",
    "plt.ylabel('R^2 value')\n",
    "plt.legend(['Weighted', 'Unweighted'])\n",
    "plt.show()"
   ]
  },
  {
   "cell_type": "code",
   "execution_count": 110,
   "metadata": {
    "collapsed": false
   },
   "outputs": [
    {
     "data": {
      "image/png": "[encoded data removed]",
      "text/plain": [
       "<matplotlib.figure.Figure at 0x10def2810>"
      ]
     },
     "metadata": {},
     "output_type": "display_data"
    }
   ],
   "source": [
    "# Zoomed in plot\n",
    "plt.plot(range(10,151), avg_rsq_weight[9:], c='b')\n",
    "plt.plot(range(10,151), avg_rsq_unweight[9:], c='r')\n",
    "plt.title('Distance: R-squared by kNN (Zoomed in)')\n",
    "plt.xlabel('Number of nearest neighbors (k)')\n",
    "plt.ylabel('R^2 value')\n",
    "plt.legend(['Weighted', 'Unweighted'])\n",
    "plt.show()"
   ]
  },
  {
   "cell_type": "code",
   "execution_count": 270,
   "metadata": {
    "collapsed": false
   },
   "outputs": [
    {
     "name": "stdout",
     "output_type": "stream",
     "text": [
      "R^2 for k=25: 0.0805419769803\n"
     ]
    }
   ],
   "source": [
    "# Best k: 25\n",
    "print 'R^2 for k=25:', str(avg_rsq_unweight[25])"
   ]
  },
  {
   "cell_type": "code",
   "execution_count": 271,
   "metadata": {
    "collapsed": false
   },
   "outputs": [],
   "source": [
    "# Look at predictions vs. truth for distance run\n",
    "train, test = train_test_split(dat_knn, test_size = 0.3)\n",
    "neighbors_run_un = KNN(n_neighbors=25)\n",
    "neighbors_run_un.fit(train[['run_dist', 'difficulty', 'is_workout']], train['run_dist_1'])\n",
    "y_pred_run_un = neighbors_run_un.predict(test[['run_dist', 'difficulty', 'is_workout']])"
   ]
  },
  {
   "cell_type": "code",
   "execution_count": 272,
   "metadata": {
    "collapsed": false
   },
   "outputs": [
    {
     "data": {
      "text/html": [
       "<div>\n",
       "<style scoped>\n",
       "    .dataframe tbody tr th:only-of-type {\n",
       "        vertical-align: middle;\n",
       "    }\n",
       "\n",
       "    .dataframe tbody tr th {\n",
       "        vertical-align: top;\n",
       "    }\n",
       "\n",
       "    .dataframe thead th {\n",
       "        text-align: right;\n",
       "    }\n",
       "</style>\n",
       "<table border=\"1\" class=\"dataframe\">\n",
       "  <thead>\n",
       "    <tr style=\"text-align: right;\">\n",
       "      <th></th>\n",
       "      <th>Prediction</th>\n",
       "      <th>True</th>\n",
       "    </tr>\n",
       "  </thead>\n",
       "  <tbody>\n",
       "    <tr>\n",
       "      <th>425</th>\n",
       "      <td>7.8</td>\n",
       "      <td>6.0</td>\n",
       "    </tr>\n",
       "    <tr>\n",
       "      <th>167</th>\n",
       "      <td>7.9</td>\n",
       "      <td>0.0</td>\n",
       "    </tr>\n",
       "    <tr>\n",
       "      <th>256</th>\n",
       "      <td>6.9</td>\n",
       "      <td>6.0</td>\n",
       "    </tr>\n",
       "    <tr>\n",
       "      <th>197</th>\n",
       "      <td>6.8</td>\n",
       "      <td>10.0</td>\n",
       "    </tr>\n",
       "    <tr>\n",
       "      <th>206</th>\n",
       "      <td>7.8</td>\n",
       "      <td>14.0</td>\n",
       "    </tr>\n",
       "    <tr>\n",
       "      <th>220</th>\n",
       "      <td>6.4</td>\n",
       "      <td>8.0</td>\n",
       "    </tr>\n",
       "    <tr>\n",
       "      <th>160</th>\n",
       "      <td>7.1</td>\n",
       "      <td>4.0</td>\n",
       "    </tr>\n",
       "    <tr>\n",
       "      <th>322</th>\n",
       "      <td>6.1</td>\n",
       "      <td>8.0</td>\n",
       "    </tr>\n",
       "    <tr>\n",
       "      <th>176</th>\n",
       "      <td>6.6</td>\n",
       "      <td>6.0</td>\n",
       "    </tr>\n",
       "    <tr>\n",
       "      <th>151</th>\n",
       "      <td>7.7</td>\n",
       "      <td>12.0</td>\n",
       "    </tr>\n",
       "  </tbody>\n",
       "</table>\n",
       "</div>"
      ],
      "text/plain": [
       "     Prediction  True\n",
       "425         7.8   6.0\n",
       "167         7.9   0.0\n",
       "256         6.9   6.0\n",
       "197         6.8  10.0\n",
       "206         7.8  14.0\n",
       "220         6.4   8.0\n",
       "160         7.1   4.0\n",
       "322         6.1   8.0\n",
       "176         6.6   6.0\n",
       "151         7.7  12.0"
      ]
     },
     "execution_count": 272,
     "metadata": {},
     "output_type": "execute_result"
    }
   ],
   "source": [
    "# Representative snippet--for paper\n",
    "pd.DataFrame({'True':test['run_dist_1'].round(1), 'Prediction':y_pred_run_un.round(1)}).iloc[40:50]"
   ]
  },
  {
   "cell_type": "code",
   "execution_count": 77,
   "metadata": {
    "collapsed": true
   },
   "outputs": [],
   "source": [
    "# Cross validation for kNN workouts\n",
    "avg_rsq_weight = [None]*50\n",
    "avg_rsq_unweight = [None]*50\n",
    "avg_acc_weight = [None]*50\n",
    "avg_acc_unweight = [None]*50\n",
    "for k in range(50):\n",
    "    rsq_weight = [None]*20\n",
    "    rsq_unweight = [None]*20\n",
    "    acc_weight = [None]*20\n",
    "    acc_unweight = [None]*20\n",
    "    for i in range(20):\n",
    "        train, test = train_test_split(dat_knn, test_size = 0.3)\n",
    "        # Unweighted\n",
    "        neighbors_work_un = KNN(n_neighbors=k+1)\n",
    "        neighbors_work_un.fit(train[['run_dist', 'difficulty', 'is_workout']], train['is_workout_1'])\n",
    "        y_pred_work_un = neighbors_work_un.predict(test[['run_dist', 'difficulty', 'is_workout']])\n",
    "        r_work_un = neighbors_work_un.score(test[['run_dist', 'difficulty', 'is_workout']], test['is_workout_1'])\n",
    "        rsq_unweight[i] = r_work_un\n",
    "        acc_unweight[i] = float(sum(pd.Series(test['is_workout_1']).values == pd.Series(y_pred_work_un).map(round).values))/len(y_pred_work_un)\n",
    "        # Weighted\n",
    "        neighbors_work_w = KNN(n_neighbors=k+1, weights='distance')\n",
    "        neighbors_work_w.fit(train[['run_dist', 'difficulty', 'is_workout']], train['is_workout_1'])\n",
    "        y_pred_work_w = neighbors_work_w.predict(test[['run_dist', 'difficulty', 'is_workout']])\n",
    "        r_work_w = neighbors_work_w.score(test[['run_dist', 'difficulty', 'is_workout']], test['is_workout_1'])\n",
    "        rsq_weight[i] = r_work_w\n",
    "        acc_weight[i] = float(sum(pd.Series(test['is_workout_1']).values == pd.Series(y_pred_work_w).map(round).values))/len(y_pred_work_w)\n",
    "    avg_rsq_weight[k] = float(sum(rsq_weight))/len(rsq_weight)\n",
    "    avg_rsq_unweight[k] = float(sum(rsq_unweight))/len(rsq_unweight)\n",
    "    avg_acc_weight[k] = float(sum(acc_weight))/len(acc_weight)\n",
    "    avg_acc_unweight[k] = float(sum(acc_unweight))/len(acc_unweight)"
   ]
  },
  {
   "cell_type": "code",
   "execution_count": 100,
   "metadata": {
    "collapsed": false
   },
   "outputs": [
    {
     "data": {
      "image/png": "[encoded data removed]",
      "text/plain": [
       "<matplotlib.figure.Figure at 0x10d57f290>"
      ]
     },
     "metadata": {},
     "output_type": "display_data"
    }
   ],
   "source": [
    "# Find optimal k\n",
    "plt.plot(range(1,51), avg_acc_weight, c='b', label='Weighted')\n",
    "plt.plot(range(1,51), avg_acc_unweight, c='r', label='Unweighted')\n",
    "plt.title('Workout: Accuracy by kNN')\n",
    "plt.xlabel('Number of nearest neighbors (k)')\n",
    "plt.ylabel('Accuracy')\n",
    "plt.legend(['Weighted', 'Unweighted'])\n",
    "plt.show()"
   ]
  },
  {
   "cell_type": "code",
   "execution_count": 273,
   "metadata": {
    "collapsed": false
   },
   "outputs": [
    {
     "name": "stdout",
     "output_type": "stream",
     "text": [
      "Accuracy for k=10: 0.78597972973\n"
     ]
    }
   ],
   "source": [
    "# Best accuracy is k=10\n",
    "print 'Accuracy for k=10:', str(avg_acc_unweight[10])"
   ]
  },
  {
   "cell_type": "code",
   "execution_count": 277,
   "metadata": {
    "collapsed": false
   },
   "outputs": [],
   "source": [
    "# Results dataframe--all data plus predictions\n",
    "results = pd.DataFrame({'run_dist':test['run_dist'], 'difficulty':test['difficulty'], \n",
    "                        'is_workout':test['is_workout'], 'run_dist_1':test['run_dist_1'], \n",
    "                        'run_dist_predict':y_pred_run, 'is_workout_1':test['is_workout_1'], \n",
    "                        'workout_pred':y_pred_work_bin}) "
   ]
  },
  {
   "cell_type": "code",
   "execution_count": 278,
   "metadata": {
    "collapsed": false
   },
   "outputs": [],
   "source": [
    "# Confusion matrix\n",
    "cmat = confusion_matrix(results['is_workout_1'], results['workout_pred'])"
   ]
  },
  {
   "cell_type": "code",
   "execution_count": 279,
   "metadata": {
    "collapsed": false
   },
   "outputs": [
    {
     "data": {
      "text/plain": [
       "array([[415,  58],\n",
       "       [105,  14]])"
      ]
     },
     "execution_count": 279,
     "metadata": {},
     "output_type": "execute_result"
    }
   ],
   "source": [
    "cmat"
   ]
  },
  {
   "cell_type": "code",
   "execution_count": 280,
   "metadata": {
    "collapsed": false
   },
   "outputs": [
    {
     "name": "stdout",
     "output_type": "stream",
     "text": [
      "# no workouts: 473\n",
      "# workouts: 119\n"
     ]
    }
   ],
   "source": [
    "print '# no workouts:', str(len(results['is_workout_1']) - sum(results['is_workout_1']))\n",
    "print '# workouts:', str(sum(results['is_workout_1']))"
   ]
  },
  {
   "cell_type": "code",
   "execution_count": 281,
   "metadata": {
    "collapsed": false
   },
   "outputs": [
    {
     "name": "stdout",
     "output_type": "stream",
     "text": [
      "415 58 14 105\n"
     ]
    }
   ],
   "source": [
    "# Classification breakdown\n",
    "true_neg = cmat[0][0]\n",
    "false_pos = cmat[0][1]\n",
    "false_neg = cmat[1][0]\n",
    "true_pos = cmat[1][1]\n",
    "\n",
    "print true_neg, false_pos, true_pos, false_neg"
   ]
  },
  {
   "cell_type": "code",
   "execution_count": 282,
   "metadata": {
    "collapsed": false
   },
   "outputs": [
    {
     "data": {
      "image/png": "[encoded data removed]",
      "text/plain": [
       "<matplotlib.figure.Figure at 0x10eab2690>"
      ]
     },
     "metadata": {},
     "output_type": "display_data"
    }
   ],
   "source": [
    "# Pie chart for classifications\n",
    "labels = ['Predicted workout - Correct (True Positive)','Predicted no workout - Correct (True Negative)',\n",
    "          'Predicted workout - Incorrect (False Positive)', \n",
    "         'Predicted no workout - Incorrect (False Negative)']\n",
    "plt.title('Predicting Workout: kNN')\n",
    "plt.pie([true_pos, true_neg, false_pos, false_neg], colors=['lightskyblue','lightblue','lightcoral','indianred'], \n",
    "        labels=labels,\n",
    "       autopct='%1.1f%%')\n",
    "plt.show()"
   ]
  },
  {
   "cell_type": "markdown",
   "metadata": {
    "collapsed": true
   },
   "source": [
    "### Try Logistic Regression"
   ]
  },
  {
   "cell_type": "code",
   "execution_count": 283,
   "metadata": {
    "collapsed": true
   },
   "outputs": [],
   "source": [
    "# Quick test on logistic regression--worthwhile if there are much better results, not worth it if not"
   ]
  },
  {
   "cell_type": "code",
   "execution_count": 284,
   "metadata": {
    "collapsed": true
   },
   "outputs": [],
   "source": [
    "from sklearn.linear_model import LogisticRegression"
   ]
  },
  {
   "cell_type": "code",
   "execution_count": 285,
   "metadata": {
    "collapsed": false
   },
   "outputs": [],
   "source": [
    "train, test = train_test_split(dat_knn, test_size = 0.3)\n",
    "log_reg = LogisticRegression()\n",
    "log_reg.fit(train[['run_dist', 'difficulty', 'is_workout']], pd.Series(train['is_workout_1']))\n",
    "preds = log_reg.predict(test[['run_dist', 'difficulty', 'is_workout']])"
   ]
  },
  {
   "cell_type": "code",
   "execution_count": 286,
   "metadata": {
    "collapsed": false
   },
   "outputs": [
    {
     "data": {
      "text/plain": [
       "0.7820945945945946"
      ]
     },
     "execution_count": 286,
     "metadata": {},
     "output_type": "execute_result"
    }
   ],
   "source": [
    "float(sum(preds == test['is_workout_1']))/len(preds)"
   ]
  },
  {
   "cell_type": "code",
   "execution_count": 287,
   "metadata": {
    "collapsed": true
   },
   "outputs": [],
   "source": [
    "# not worth exploring further given the scope of the project"
   ]
  },
  {
   "cell_type": "markdown",
   "metadata": {},
   "source": [
    "# Final Model"
   ]
  },
  {
   "cell_type": "code",
   "execution_count": 288,
   "metadata": {
    "collapsed": true
   },
   "outputs": [],
   "source": [
    "# Final trained models just to make a function where you can input mileage and text and get your plan for tomorrow"
   ]
  },
  {
   "cell_type": "code",
   "execution_count": 289,
   "metadata": {
    "collapsed": true
   },
   "outputs": [],
   "source": [
    "from sklearn.feature_extraction.text import CountVectorizer\n",
    "from sklearn.naive_bayes import MultinomialNB\n",
    "from sklearn.model_selection import train_test_split\n",
    "from sklearn.pipeline import Pipeline"
   ]
  },
  {
   "cell_type": "code",
   "execution_count": 290,
   "metadata": {
    "collapsed": true
   },
   "outputs": [],
   "source": [
    "dat_small = pd.read_excel('rd_small_full.xlsx')"
   ]
  },
  {
   "cell_type": "code",
   "execution_count": 304,
   "metadata": {
    "collapsed": false
   },
   "outputs": [
    {
     "data": {
      "text/plain": [
       "Pipeline(memory=None,\n",
       "     steps=[('vect', CountVectorizer(analyzer=u'word', binary=False, decode_error=u'strict',\n",
       "        dtype=<type 'numpy.int64'>, encoding=u'utf-8', input=u'content',\n",
       "        lowercase=True, max_df=1.0, max_features=None, min_df=1,\n",
       "        ngram_range=(1, 1), preprocessor=None, stop_words=None,\n",
       "        strip_accents=None, token_pattern=u'(?u)\\\\b\\\\w\\\\w+\\\\b',\n",
       "        tokenizer=None, vocabulary=None)), ('clf', MultinomialNB(alpha=1.0, class_prior=None, fit_prior=True))])"
      ]
     },
     "execution_count": 304,
     "metadata": {},
     "output_type": "execute_result"
    }
   ],
   "source": [
    "# Train naive bayes models\n",
    "X_train_diff, X_test_diff, y_train_diff, y_test_diff = train_test_split(dat_small['notes'], dat_small['difficulty'], test_size=0.3)\n",
    "X_train_work, X_test_work, y_train_work, y_test_work = train_test_split(dat_small['notes'], dat_small['is_workout'], test_size=0.3)\n",
    "\n",
    "nb_model_diff = Pipeline([('vect', CountVectorizer(ngram_range=(1,2))), \n",
    "                    ('clf', MultinomialNB()),])\n",
    "nb_model_work = Pipeline([('vect', CountVectorizer(ngram_range=(1,1))), ('clf', MultinomialNB()),])\n",
    "nb_model_diff.fit(X_train_diff, y_train_diff)\n",
    "nb_model_work.fit(X_train_work, y_train_work)"
   ]
  },
  {
   "cell_type": "code",
   "execution_count": 292,
   "metadata": {
    "collapsed": true
   },
   "outputs": [],
   "source": [
    "dat_knn = pd.read_excel('dat_knn_2.xlsx')"
   ]
  },
  {
   "cell_type": "code",
   "execution_count": 305,
   "metadata": {
    "collapsed": false
   },
   "outputs": [
    {
     "data": {
      "text/plain": [
       "KNeighborsRegressor(algorithm='auto', leaf_size=30, metric='minkowski',\n",
       "          metric_params=None, n_jobs=1, n_neighbors=10, p=2,\n",
       "          weights='uniform')"
      ]
     },
     "execution_count": 305,
     "metadata": {},
     "output_type": "execute_result"
    }
   ],
   "source": [
    "# Train kNN models\n",
    "train, test = train_test_split(dat_knn, test_size = 0.3)\n",
    "\n",
    "neighbors_run = KNN(n_neighbors=25)\n",
    "neighbors_run.fit(train[['run_dist', 'difficulty', 'is_workout']], train['run_dist_1'])\n",
    "\n",
    "neighbors_work = KNN(n_neighbors=10)\n",
    "neighbors_work.fit(train[['run_dist', 'difficulty', 'is_workout']], train['is_workout_1'])"
   ]
  },
  {
   "cell_type": "code",
   "execution_count": 306,
   "metadata": {
    "collapsed": false
   },
   "outputs": [
    {
     "data": {
      "text/plain": [
       "4.8879999999999999"
      ]
     },
     "execution_count": 306,
     "metadata": {},
     "output_type": "execute_result"
    }
   ],
   "source": [
    "# Test\n",
    "neighbors_run.predict(pd.DataFrame({'run':[8],'diff':[3],'workout':[0]}))[0]"
   ]
  },
  {
   "cell_type": "code",
   "execution_count": 307,
   "metadata": {
    "collapsed": true
   },
   "outputs": [],
   "source": [
    "# Function\n",
    "def recommend_next_day(mileage, text):\n",
    "    difficulty = nb_model_diff.predict([text])\n",
    "    workout = nb_model_work.predict([text])\n",
    "    run_rec = neighbors_run.predict(pd.DataFrame({'run':[mileage],'diff':[difficulty],'workout':[workout]}))\n",
    "    work_rec = neighbors_work.predict(pd.DataFrame({'run':[mileage],'diff':[difficulty],'workout':[workout]}))\n",
    "    print 'You should run ' + str(round(run_rec[0],1)) + ' miles.'\n",
    "    if round(work_rec[0]) == 1:\n",
    "        print 'You should do a workout.'\n",
    "    else:\n",
    "        print 'You should not do a workout.'\n",
    "    return round(run_rec[0],1), round(work_rec[0])\n"
   ]
  },
  {
   "cell_type": "code",
   "execution_count": 308,
   "metadata": {
    "collapsed": false
   },
   "outputs": [
    {
     "name": "stdout",
     "output_type": "stream",
     "text": [
      "You should run 5.1 miles.\n",
      "You should not do a workout.\n"
     ]
    },
    {
     "data": {
      "text/plain": [
       "(5.1, 0.0)"
      ]
     },
     "execution_count": 308,
     "metadata": {},
     "output_type": "execute_result"
    }
   ],
   "source": [
    "recommend_next_day(10, 'I felt so bad I thought I would die. What a terrible run')"
   ]
  },
  {
   "cell_type": "code",
   "execution_count": 309,
   "metadata": {
    "collapsed": false
   },
   "outputs": [
    {
     "name": "stdout",
     "output_type": "stream",
     "text": [
      "You should run 6.1 miles.\n",
      "You should not do a workout.\n"
     ]
    },
    {
     "data": {
      "text/plain": [
       "(6.1, 0.0)"
      ]
     },
     "execution_count": 309,
     "metadata": {},
     "output_type": "execute_result"
    }
   ],
   "source": [
    "recommend_next_day(1, 'Felt unbelievable, the 400s were so easy')"
   ]
  },
  {
   "cell_type": "code",
   "execution_count": 313,
   "metadata": {
    "collapsed": false
   },
   "outputs": [
    {
     "name": "stdout",
     "output_type": "stream",
     "text": [
      "You should run 3.3 miles.\n",
      "You should not do a workout.\n"
     ]
    },
    {
     "data": {
      "text/plain": [
       "(3.3, 0.0)"
      ]
     },
     "execution_count": 313,
     "metadata": {},
     "output_type": "execute_result"
    }
   ],
   "source": [
    "recommend_next_day(12, '6 miles easy. Did the bridge and felt pretty smooth. 4x100 strides after')"
   ]
  },
  {
   "cell_type": "code",
   "execution_count": null,
   "metadata": {
    "collapsed": true
   },
   "outputs": [],
   "source": []
  }
 ],
 "metadata": {
  "anaconda-cloud": {},
  "kernelspec": {
   "display_name": "Python [Root]",
   "language": "python",
   "name": "Python [Root]"
  },
  "language_info": {
   "codemirror_mode": {
    "name": "ipython",
    "version": 2
   },
   "file_extension": ".py",
   "mimetype": "text/x-python",
   "name": "python",
   "nbconvert_exporter": "python",
   "pygments_lexer": "ipython2",
   "version": "2.7.12"
  }
 },
 "nbformat": 4,
 "nbformat_minor": 0
}
