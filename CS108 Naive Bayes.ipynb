{
 "cells": [
  {
   "cell_type": "code",
   "execution_count": 3,
   "metadata": {
    "collapsed": true
   },
   "outputs": [],
   "source": [
    "# Libraries\n",
    "import numpy as np\n",
    "import pandas as pd\n",
    "import math\n",
    "\n",
    "from sklearn.feature_extraction.text import CountVectorizer\n",
    "from sklearn.feature_extraction.text import TfidfTransformer\n",
    "from sklearn.naive_bayes import MultinomialNB\n",
    "from sklearn.model_selection import train_test_split\n",
    "from sklearn.pipeline import Pipeline"
   ]
  },
  {
   "cell_type": "code",
   "execution_count": 4,
   "metadata": {
    "collapsed": true
   },
   "outputs": [],
   "source": [
    "# Running data - current day and next day\n",
    "dat = pd.read_excel('running_data.xlsx')"
   ]
  },
  {
   "cell_type": "code",
   "execution_count": 5,
   "metadata": {
    "collapsed": false
   },
   "outputs": [
    {
     "data": {
      "text/plain": [
       "(1972, 5)"
      ]
     },
     "execution_count": 5,
     "metadata": {},
     "output_type": "execute_result"
    }
   ],
   "source": [
    "dat.shape"
   ]
  },
  {
   "cell_type": "code",
   "execution_count": 6,
   "metadata": {
    "collapsed": false
   },
   "outputs": [
    {
     "data": {
      "text/html": [
       "<div>\n",
       "<style scoped>\n",
       "    .dataframe tbody tr th:only-of-type {\n",
       "        vertical-align: middle;\n",
       "    }\n",
       "\n",
       "    .dataframe tbody tr th {\n",
       "        vertical-align: top;\n",
       "    }\n",
       "\n",
       "    .dataframe thead th {\n",
       "        text-align: right;\n",
       "    }\n",
       "</style>\n",
       "<table border=\"1\" class=\"dataframe\">\n",
       "  <thead>\n",
       "    <tr style=\"text-align: right;\">\n",
       "      <th></th>\n",
       "      <th>date</th>\n",
       "      <th>run_dist</th>\n",
       "      <th>notes</th>\n",
       "      <th>run_dist_1</th>\n",
       "      <th>notes_1</th>\n",
       "    </tr>\n",
       "  </thead>\n",
       "  <tbody>\n",
       "    <tr>\n",
       "      <th>171</th>\n",
       "      <td>2016-10-10</td>\n",
       "      <td>10.0</td>\n",
       "      <td>AM: Warmup (2 miles), 2 sets of (80, 50, 50), ...</td>\n",
       "      <td>10.0</td>\n",
       "      <td>AM: Warmup (1.5 miles), Lift, Cooldown (2 mile...</td>\n",
       "    </tr>\n",
       "    <tr>\n",
       "      <th>225</th>\n",
       "      <td>2016-11-21</td>\n",
       "      <td>10.0</td>\n",
       "      <td>AM: Warmup (2 miles), 8x150 (Extensive Tempo),...</td>\n",
       "      <td>8.0</td>\n",
       "      <td>AM: Warmup (1.5 miles), Lift, Cooldown (1 mile...</td>\n",
       "    </tr>\n",
       "    <tr>\n",
       "      <th>226</th>\n",
       "      <td>2016-11-22</td>\n",
       "      <td>8.0</td>\n",
       "      <td>AM: Warmup (1.5 miles), Lift, Cooldown (1 mile...</td>\n",
       "      <td>11.0</td>\n",
       "      <td>AM: Warmup (2.5 miles), 8x300 with 2:30 rest (...</td>\n",
       "    </tr>\n",
       "    <tr>\n",
       "      <th>227</th>\n",
       "      <td>2016-11-23</td>\n",
       "      <td>11.0</td>\n",
       "      <td>AM: Warmup (2.5 miles), 8x300 with 2:30 rest (...</td>\n",
       "      <td>8.0</td>\n",
       "      <td>8 mile run. Not able to do squats or RDLs.</td>\n",
       "    </tr>\n",
       "    <tr>\n",
       "      <th>228</th>\n",
       "      <td>2016-11-24</td>\n",
       "      <td>8.0</td>\n",
       "      <td>8 mile run. Not able to do squats or RDLs.</td>\n",
       "      <td>10.5</td>\n",
       "      <td>AM: Warmup (2 miles), 5x800 with 1:45 rest (Go...</td>\n",
       "    </tr>\n",
       "  </tbody>\n",
       "</table>\n",
       "</div>"
      ],
      "text/plain": [
       "          date  run_dist                                              notes  \\\n",
       "171 2016-10-10      10.0  AM: Warmup (2 miles), 2 sets of (80, 50, 50), ...   \n",
       "225 2016-11-21      10.0  AM: Warmup (2 miles), 8x150 (Extensive Tempo),...   \n",
       "226 2016-11-22       8.0  AM: Warmup (1.5 miles), Lift, Cooldown (1 mile...   \n",
       "227 2016-11-23      11.0  AM: Warmup (2.5 miles), 8x300 with 2:30 rest (...   \n",
       "228 2016-11-24       8.0         8 mile run. Not able to do squats or RDLs.   \n",
       "\n",
       "     run_dist_1                                            notes_1  \n",
       "171        10.0  AM: Warmup (1.5 miles), Lift, Cooldown (2 mile...  \n",
       "225         8.0  AM: Warmup (1.5 miles), Lift, Cooldown (1 mile...  \n",
       "226        11.0  AM: Warmup (2.5 miles), 8x300 with 2:30 rest (...  \n",
       "227         8.0         8 mile run. Not able to do squats or RDLs.  \n",
       "228        10.5  AM: Warmup (2 miles), 5x800 with 1:45 rest (Go...  "
      ]
     },
     "execution_count": 6,
     "metadata": {},
     "output_type": "execute_result"
    }
   ],
   "source": [
    "dat.head()"
   ]
  },
  {
   "cell_type": "markdown",
   "metadata": {},
   "source": [
    "### Test on small dataset"
   ]
  },
  {
   "cell_type": "code",
   "execution_count": 7,
   "metadata": {
    "collapsed": false
   },
   "outputs": [],
   "source": [
    "dat_small = pd.read_excel('rd_small_full.xlsx')"
   ]
  },
  {
   "cell_type": "code",
   "execution_count": 8,
   "metadata": {
    "collapsed": false
   },
   "outputs": [
    {
     "name": "stdout",
     "output_type": "stream",
     "text": [
      "(1972, 5)\n"
     ]
    },
    {
     "data": {
      "text/html": [
       "<div>\n",
       "<style scoped>\n",
       "    .dataframe tbody tr th:only-of-type {\n",
       "        vertical-align: middle;\n",
       "    }\n",
       "\n",
       "    .dataframe tbody tr th {\n",
       "        vertical-align: top;\n",
       "    }\n",
       "\n",
       "    .dataframe thead th {\n",
       "        text-align: right;\n",
       "    }\n",
       "</style>\n",
       "<table border=\"1\" class=\"dataframe\">\n",
       "  <thead>\n",
       "    <tr style=\"text-align: right;\">\n",
       "      <th></th>\n",
       "      <th>date</th>\n",
       "      <th>run_dist</th>\n",
       "      <th>notes</th>\n",
       "      <th>is_workout</th>\n",
       "      <th>difficulty</th>\n",
       "      <th>run_dist_1</th>\n",
       "      <th>notes_1</th>\n",
       "    </tr>\n",
       "  </thead>\n",
       "  <tbody>\n",
       "    <tr>\n",
       "      <th>0</th>\n",
       "      <td>2016-12-29</td>\n",
       "      <td>8.00</td>\n",
       "      <td>AM: 5 miles; PM: Warmup, lift, cooldown</td>\n",
       "      <td>0</td>\n",
       "      <td>0</td>\n",
       "      <td>9.0</td>\n",
       "      <td>AM: Warmup (2 miles), 3x1000 with 3:30 recover...</td>\n",
       "    </tr>\n",
       "    <tr>\n",
       "      <th>1</th>\n",
       "      <td>2015-07-26</td>\n",
       "      <td>10.00</td>\n",
       "      <td>Felt a little sore at the beginning of the run...</td>\n",
       "      <td>0</td>\n",
       "      <td>3</td>\n",
       "      <td>6.5</td>\n",
       "      <td>6 mile run at around 6:40 pace, 6x100 strides.</td>\n",
       "    </tr>\n",
       "    <tr>\n",
       "      <th>2</th>\n",
       "      <td>2015-07-28</td>\n",
       "      <td>7.50</td>\n",
       "      <td>AM: 3 mile run at around 6:40 pace; PM: Warm-u...</td>\n",
       "      <td>1</td>\n",
       "      <td>2</td>\n",
       "      <td>5.0</td>\n",
       "      <td>5 mile run at around 6:30 pace.</td>\n",
       "    </tr>\n",
       "    <tr>\n",
       "      <th>3</th>\n",
       "      <td>2015-08-19</td>\n",
       "      <td>6.00</td>\n",
       "      <td>6 mile run at 6:40 pace, 4x100 strides</td>\n",
       "      <td>0</td>\n",
       "      <td>3</td>\n",
       "      <td>7.0</td>\n",
       "      <td>7 mile run at 6:45 pace, 4x100 strides</td>\n",
       "    </tr>\n",
       "    <tr>\n",
       "      <th>4</th>\n",
       "      <td>2015-10-18</td>\n",
       "      <td>10.25</td>\n",
       "      <td>10 mile run in 61:00 at Minuteman, 4x100 strid...</td>\n",
       "      <td>0</td>\n",
       "      <td>1</td>\n",
       "      <td>8.0</td>\n",
       "      <td>AM: 3 miles; PM: Warmup (1.5 miles), 7x120 at ...</td>\n",
       "    </tr>\n",
       "  </tbody>\n",
       "</table>\n",
       "</div>"
      ],
      "text/plain": [
       "        date  run_dist                                              notes  \\\n",
       "0 2016-12-29      8.00            AM: 5 miles; PM: Warmup, lift, cooldown   \n",
       "1 2015-07-26     10.00  Felt a little sore at the beginning of the run...   \n",
       "2 2015-07-28      7.50  AM: 3 mile run at around 6:40 pace; PM: Warm-u...   \n",
       "3 2015-08-19      6.00             6 mile run at 6:40 pace, 4x100 strides   \n",
       "4 2015-10-18     10.25  10 mile run in 61:00 at Minuteman, 4x100 strid...   \n",
       "\n",
       "   is_workout  difficulty  run_dist_1  \\\n",
       "0           0           0         9.0   \n",
       "1           0           3         6.5   \n",
       "2           1           2         5.0   \n",
       "3           0           3         7.0   \n",
       "4           0           1         8.0   \n",
       "\n",
       "                                             notes_1  \n",
       "0  AM: Warmup (2 miles), 3x1000 with 3:30 recover...  \n",
       "1     6 mile run at around 6:40 pace, 6x100 strides.  \n",
       "2                    5 mile run at around 6:30 pace.  \n",
       "3             7 mile run at 6:45 pace, 4x100 strides  \n",
       "4  AM: 3 miles; PM: Warmup (1.5 miles), 7x120 at ...  "
      ]
     },
     "execution_count": 8,
     "metadata": {},
     "output_type": "execute_result"
    }
   ],
   "source": [
    "print dat.shape\n",
    "dat_small.head()"
   ]
  },
  {
   "cell_type": "code",
   "execution_count": 9,
   "metadata": {
    "collapsed": false
   },
   "outputs": [
    {
     "data": {
      "text/plain": [
       "date                                        2016-12-29 00:00:00\n",
       "run_dist                                                      8\n",
       "notes                   AM: 5 miles; PM: Warmup, lift, cooldown\n",
       "is_workout                                                    0\n",
       "difficulty                                                    0\n",
       "run_dist_1                                                    9\n",
       "notes_1       AM: Warmup (2 miles), 3x1000 with 3:30 recover...\n",
       "Name: 0, dtype: object"
      ]
     },
     "execution_count": 9,
     "metadata": {},
     "output_type": "execute_result"
    }
   ],
   "source": [
    "dat_small.iloc[0]"
   ]
  },
  {
   "cell_type": "code",
   "execution_count": 10,
   "metadata": {
    "collapsed": true
   },
   "outputs": [],
   "source": [
    "vectorizer = CountVectorizer(ngram_range=(1,2))\n",
    "X_feats = vectorizer.fit_transform(dat_small['notes'])"
   ]
  },
  {
   "cell_type": "code",
   "execution_count": 11,
   "metadata": {
    "collapsed": false
   },
   "outputs": [
    {
     "data": {
      "text/plain": [
       "(407, 9575)"
      ]
     },
     "execution_count": 11,
     "metadata": {},
     "output_type": "execute_result"
    }
   ],
   "source": [
    "X_feats.shape"
   ]
  },
  {
   "cell_type": "code",
   "execution_count": 12,
   "metadata": {
    "collapsed": false
   },
   "outputs": [],
   "source": [
    "X_train, X_test, y_train, y_test = train_test_split(X_feats, dat_small['difficulty'], test_size=0.25)"
   ]
  },
  {
   "cell_type": "code",
   "execution_count": 13,
   "metadata": {
    "collapsed": false
   },
   "outputs": [
    {
     "name": "stdout",
     "output_type": "stream",
     "text": [
      "Correct labels out of 102 points : 44\n",
      "Accuracy: 0.43137254902\n",
      "Within 1: 0.754901960784\n"
     ]
    }
   ],
   "source": [
    "mnb = MultinomialNB()\n",
    "nb_model = mnb.fit(X_train, y_train)\n",
    "y_pred = nb_model.predict(X_test)\n",
    "#y_pred = mnb.fit(X_train, train['label']).predict(X_test)\n",
    "print(\"Correct labels out of %d points : %d\"\n",
    "      % (X_test.shape[0],(y_test == y_pred).sum()))\n",
    "print 'Accuracy:', float(sum(y_test == y_pred))/X_test.shape[0]\n",
    "print 'Within 1:', float(sum((abs(y_test - y_pred) <= 1)))/X_test.shape[0]"
   ]
  },
  {
   "cell_type": "code",
   "execution_count": 14,
   "metadata": {
    "collapsed": true
   },
   "outputs": [],
   "source": [
    "results = pd.DataFrame(data = {'pred':y_pred, 'true':y_test}) #'diff':[abs(pred-true) for pred, true in zip(y_pred,y_test)]})"
   ]
  },
  {
   "cell_type": "code",
   "execution_count": 15,
   "metadata": {
    "collapsed": false
   },
   "outputs": [
    {
     "data": {
      "text/plain": [
       "(102, 2)"
      ]
     },
     "execution_count": 15,
     "metadata": {},
     "output_type": "execute_result"
    }
   ],
   "source": [
    "results.shape"
   ]
  },
  {
   "cell_type": "code",
   "execution_count": 16,
   "metadata": {
    "collapsed": false
   },
   "outputs": [
    {
     "data": {
      "text/html": [
       "<div>\n",
       "<style scoped>\n",
       "    .dataframe tbody tr th:only-of-type {\n",
       "        vertical-align: middle;\n",
       "    }\n",
       "\n",
       "    .dataframe tbody tr th {\n",
       "        vertical-align: top;\n",
       "    }\n",
       "\n",
       "    .dataframe thead th {\n",
       "        text-align: right;\n",
       "    }\n",
       "</style>\n",
       "<table border=\"1\" class=\"dataframe\">\n",
       "  <thead>\n",
       "    <tr style=\"text-align: right;\">\n",
       "      <th></th>\n",
       "      <th>pred</th>\n",
       "      <th>true</th>\n",
       "    </tr>\n",
       "  </thead>\n",
       "  <tbody>\n",
       "  </tbody>\n",
       "</table>\n",
       "</div>"
      ],
      "text/plain": [
       "Empty DataFrame\n",
       "Columns: [pred, true]\n",
       "Index: []"
      ]
     },
     "execution_count": 16,
     "metadata": {},
     "output_type": "execute_result"
    }
   ],
   "source": [
    "results[results['pred'] == 0]"
   ]
  },
  {
   "cell_type": "code",
   "execution_count": 17,
   "metadata": {
    "collapsed": false
   },
   "outputs": [],
   "source": [
    "res = results[(results['true'] != 0) & (results['pred'] != 0)]"
   ]
  },
  {
   "cell_type": "code",
   "execution_count": 18,
   "metadata": {
    "collapsed": false
   },
   "outputs": [
    {
     "name": "stdout",
     "output_type": "stream",
     "text": [
      "Accuracy: 0.458333333333\n",
      "Within 1: 0.78125\n"
     ]
    }
   ],
   "source": [
    "print 'Accuracy:', float(sum(res['pred'] == res['true']))/res.shape[0]\n",
    "print 'Within 1:', float(sum((abs(res['pred'] - res['true']) <= 1)))/res.shape[0]"
   ]
  },
  {
   "cell_type": "code",
   "execution_count": 19,
   "metadata": {
    "collapsed": true
   },
   "outputs": [],
   "source": [
    "y_probs = nb_model.predict_proba(X_test)"
   ]
  },
  {
   "cell_type": "code",
   "execution_count": 20,
   "metadata": {
    "collapsed": false
   },
   "outputs": [
    {
     "data": {
      "text/plain": [
       "array([  1.37402999e-05,   1.84002363e-01,   1.26602854e-04,\n",
       "         3.32244460e-05,   8.13721109e-01,   2.10296046e-03])"
      ]
     },
     "execution_count": 20,
     "metadata": {},
     "output_type": "execute_result"
    }
   ],
   "source": [
    "y_probs[0]"
   ]
  },
  {
   "cell_type": "code",
   "execution_count": 21,
   "metadata": {
    "collapsed": false
   },
   "outputs": [
    {
     "data": {
      "text/plain": [
       "0"
      ]
     },
     "execution_count": 21,
     "metadata": {},
     "output_type": "execute_result"
    }
   ],
   "source": [
    "y_test.iloc[0]"
   ]
  },
  {
   "cell_type": "code",
   "execution_count": 22,
   "metadata": {
    "collapsed": false
   },
   "outputs": [
    {
     "name": "stdout",
     "output_type": "stream",
     "text": [
      "5\n"
     ]
    },
    {
     "data": {
      "text/plain": [
       "u\"Day off, feeling a bit sick (don't do too well with travel), so day off was good.\""
      ]
     },
     "execution_count": 22,
     "metadata": {},
     "output_type": "execute_result"
    }
   ],
   "source": [
    "i = 164\n",
    "print dat_small['difficulty'].iloc[i]\n",
    "dat_small['notes'].iloc[i]"
   ]
  },
  {
   "cell_type": "code",
   "execution_count": 23,
   "metadata": {
    "collapsed": false
   },
   "outputs": [
    {
     "data": {
      "text/plain": [
       "<102x9575 sparse matrix of type '<type 'numpy.int64'>'\n",
       "\twith 6236 stored elements in Compressed Sparse Row format>"
      ]
     },
     "execution_count": 23,
     "metadata": {},
     "output_type": "execute_result"
    }
   ],
   "source": [
    "X_test"
   ]
  },
  {
   "cell_type": "code",
   "execution_count": 35,
   "metadata": {
    "collapsed": false
   },
   "outputs": [
    {
     "name": "stdout",
     "output_type": "stream",
     "text": [
      "Accuracy: 0.323529411765\n",
      "Accuracy: 0.303921568627\n",
      "Accuracy: 0.392156862745\n",
      "Accuracy: 0.401960784314\n",
      "Accuracy: 0.254901960784\n",
      "Accuracy: 0.382352941176\n",
      "Accuracy: 0.352941176471\n",
      "Accuracy: 0.441176470588\n",
      "Accuracy: 0.362745098039\n",
      "Accuracy: 0.372549019608\n",
      "Accuracy: 0.450980392157\n",
      "Accuracy: 0.323529411765\n",
      "Accuracy: 0.372549019608\n",
      "Accuracy: 0.372549019608\n",
      "Accuracy: 0.343137254902\n",
      "Accuracy: 0.352941176471\n",
      "Accuracy: 0.372549019608\n",
      "Accuracy: 0.421568627451\n",
      "Accuracy: 0.43137254902\n",
      "Accuracy: 0.441176470588\n"
     ]
    }
   ],
   "source": [
    "accuracy = [None]*20\n",
    "accuracy_within_1 = [None]*20\n",
    "for j in range(20):  \n",
    "    X_train, X_test, y_train, y_test = train_test_split(X_feats, dat_small['difficulty'], test_size=0.25, random_state=j)\n",
    "    mnb = MultinomialNB()\n",
    "    nb_model = mnb.fit(X_train, y_train)\n",
    "    y_pred = nb_model.predict(X_test)\n",
    "    #y_pred = mnb.fit(X_train, train['label']).predict(X_test)\n",
    "    print 'Accuracy:', float(sum((y_test == y_pred)))/X_test.shape[0]\n",
    "    accuracy[j] = float(sum((y_test == y_pred)))/X_test.shape[0]\n",
    "    accuracy_within_1[j] = float(sum((abs(y_test - y_pred) <= 1)))/X_test.shape[0]"
   ]
  },
  {
   "cell_type": "code",
   "execution_count": 36,
   "metadata": {
    "collapsed": false
   },
   "outputs": [
    {
     "name": "stdout",
     "output_type": "stream",
     "text": [
      "0.373529411765\n",
      "0.749019607843\n"
     ]
    }
   ],
   "source": [
    "print float(sum(accuracy))/len(accuracy)\n",
    "print float(sum(accuracy_within_1))/len(accuracy_within_1)"
   ]
  },
  {
   "cell_type": "code",
   "execution_count": 37,
   "metadata": {
    "collapsed": false
   },
   "outputs": [
    {
     "data": {
      "text/html": [
       "<div>\n",
       "<style scoped>\n",
       "    .dataframe tbody tr th:only-of-type {\n",
       "        vertical-align: middle;\n",
       "    }\n",
       "\n",
       "    .dataframe tbody tr th {\n",
       "        vertical-align: top;\n",
       "    }\n",
       "\n",
       "    .dataframe thead th {\n",
       "        text-align: right;\n",
       "    }\n",
       "</style>\n",
       "<table border=\"1\" class=\"dataframe\">\n",
       "  <thead>\n",
       "    <tr style=\"text-align: right;\">\n",
       "      <th></th>\n",
       "      <th>date</th>\n",
       "      <th>run_dist</th>\n",
       "      <th>notes</th>\n",
       "      <th>run_dist_1</th>\n",
       "      <th>notes_1</th>\n",
       "    </tr>\n",
       "  </thead>\n",
       "  <tbody>\n",
       "    <tr>\n",
       "      <th>171</th>\n",
       "      <td>2016-10-10</td>\n",
       "      <td>10.0</td>\n",
       "      <td>AM: Warmup (2 miles), 2 sets of (80, 50, 50), ...</td>\n",
       "      <td>10.0</td>\n",
       "      <td>AM: Warmup (1.5 miles), Lift, Cooldown (2 mile...</td>\n",
       "    </tr>\n",
       "    <tr>\n",
       "      <th>225</th>\n",
       "      <td>2016-11-21</td>\n",
       "      <td>10.0</td>\n",
       "      <td>AM: Warmup (2 miles), 8x150 (Extensive Tempo),...</td>\n",
       "      <td>8.0</td>\n",
       "      <td>AM: Warmup (1.5 miles), Lift, Cooldown (1 mile...</td>\n",
       "    </tr>\n",
       "    <tr>\n",
       "      <th>226</th>\n",
       "      <td>2016-11-22</td>\n",
       "      <td>8.0</td>\n",
       "      <td>AM: Warmup (1.5 miles), Lift, Cooldown (1 mile...</td>\n",
       "      <td>11.0</td>\n",
       "      <td>AM: Warmup (2.5 miles), 8x300 with 2:30 rest (...</td>\n",
       "    </tr>\n",
       "    <tr>\n",
       "      <th>227</th>\n",
       "      <td>2016-11-23</td>\n",
       "      <td>11.0</td>\n",
       "      <td>AM: Warmup (2.5 miles), 8x300 with 2:30 rest (...</td>\n",
       "      <td>8.0</td>\n",
       "      <td>8 mile run. Not able to do squats or RDLs.</td>\n",
       "    </tr>\n",
       "    <tr>\n",
       "      <th>228</th>\n",
       "      <td>2016-11-24</td>\n",
       "      <td>8.0</td>\n",
       "      <td>8 mile run. Not able to do squats or RDLs.</td>\n",
       "      <td>10.5</td>\n",
       "      <td>AM: Warmup (2 miles), 5x800 with 1:45 rest (Go...</td>\n",
       "    </tr>\n",
       "  </tbody>\n",
       "</table>\n",
       "</div>"
      ],
      "text/plain": [
       "          date  run_dist                                              notes  \\\n",
       "171 2016-10-10      10.0  AM: Warmup (2 miles), 2 sets of (80, 50, 50), ...   \n",
       "225 2016-11-21      10.0  AM: Warmup (2 miles), 8x150 (Extensive Tempo),...   \n",
       "226 2016-11-22       8.0  AM: Warmup (1.5 miles), Lift, Cooldown (1 mile...   \n",
       "227 2016-11-23      11.0  AM: Warmup (2.5 miles), 8x300 with 2:30 rest (...   \n",
       "228 2016-11-24       8.0         8 mile run. Not able to do squats or RDLs.   \n",
       "\n",
       "     run_dist_1                                            notes_1  \n",
       "171        10.0  AM: Warmup (1.5 miles), Lift, Cooldown (2 mile...  \n",
       "225         8.0  AM: Warmup (1.5 miles), Lift, Cooldown (1 mile...  \n",
       "226        11.0  AM: Warmup (2.5 miles), 8x300 with 2:30 rest (...  \n",
       "227         8.0         8 mile run. Not able to do squats or RDLs.  \n",
       "228        10.5  AM: Warmup (2 miles), 5x800 with 1:45 rest (Go...  "
      ]
     },
     "execution_count": 37,
     "metadata": {},
     "output_type": "execute_result"
    }
   ],
   "source": [
    "dat.head()"
   ]
  },
  {
   "cell_type": "code",
   "execution_count": 49,
   "metadata": {
    "collapsed": false
   },
   "outputs": [
    {
     "name": "stdout",
     "output_type": "stream",
     "text": [
      "0.225490196078\n",
      "0.509803921569\n",
      "0.862745098039\n"
     ]
    }
   ],
   "source": [
    "X_train_diff, X_test_diff, y_train_diff, y_test_diff = train_test_split(dat_small['notes'], dat_small['difficulty'], test_size=0.25)\n",
    "X_train_work, X_test_work, y_train_work, y_test_work = train_test_split(dat_small['notes'], dat_small['is_workout'], test_size=0.25)\n",
    "\n",
    "nb_model_diff = Pipeline([('vect', CountVectorizer(ngram_range=(1,2))), \n",
    "                     ('tfidf', TfidfTransformer()), ('clf', MultinomialNB()),])\n",
    "nb_model_work = Pipeline([('vect', CountVectorizer(ngram_range=(1,2))), ('clf', MultinomialNB()),])\n",
    "nb_model_diff.fit(X_train_diff, y_train_diff)\n",
    "nb_model_work.fit(X_train_work, y_train_work)\n",
    "#print(nb_model_diff.predict_proba(X_test_diff))\n",
    "pred_diff = nb_model_diff.predict(X_test_diff)\n",
    "pred_work = nb_model_work.predict(X_test_work)\n",
    "print float(sum(y_test_diff == pred_diff))/X_test_diff.shape[0]\n",
    "print float(sum((abs(y_test_diff - pred_diff) <= 1)))/X_test_diff.shape[0]\n",
    "print float(sum(y_test_work == pred_work))/X_test_work.shape[0]"
   ]
  },
  {
   "cell_type": "code",
   "execution_count": 50,
   "metadata": {
    "collapsed": false
   },
   "outputs": [
    {
     "data": {
      "text/html": [
       "<div>\n",
       "<style scoped>\n",
       "    .dataframe tbody tr th:only-of-type {\n",
       "        vertical-align: middle;\n",
       "    }\n",
       "\n",
       "    .dataframe tbody tr th {\n",
       "        vertical-align: top;\n",
       "    }\n",
       "\n",
       "    .dataframe thead th {\n",
       "        text-align: right;\n",
       "    }\n",
       "</style>\n",
       "<table border=\"1\" class=\"dataframe\">\n",
       "  <thead>\n",
       "    <tr style=\"text-align: right;\">\n",
       "      <th></th>\n",
       "      <th>date</th>\n",
       "      <th>run_dist</th>\n",
       "      <th>notes</th>\n",
       "      <th>run_dist_1</th>\n",
       "      <th>notes_1</th>\n",
       "    </tr>\n",
       "  </thead>\n",
       "  <tbody>\n",
       "    <tr>\n",
       "      <th>171</th>\n",
       "      <td>2016-10-10</td>\n",
       "      <td>10.0</td>\n",
       "      <td>AM: Warmup (2 miles), 2 sets of (80, 50, 50), ...</td>\n",
       "      <td>10.0</td>\n",
       "      <td>AM: Warmup (1.5 miles), Lift, Cooldown (2 mile...</td>\n",
       "    </tr>\n",
       "    <tr>\n",
       "      <th>225</th>\n",
       "      <td>2016-11-21</td>\n",
       "      <td>10.0</td>\n",
       "      <td>AM: Warmup (2 miles), 8x150 (Extensive Tempo),...</td>\n",
       "      <td>8.0</td>\n",
       "      <td>AM: Warmup (1.5 miles), Lift, Cooldown (1 mile...</td>\n",
       "    </tr>\n",
       "    <tr>\n",
       "      <th>226</th>\n",
       "      <td>2016-11-22</td>\n",
       "      <td>8.0</td>\n",
       "      <td>AM: Warmup (1.5 miles), Lift, Cooldown (1 mile...</td>\n",
       "      <td>11.0</td>\n",
       "      <td>AM: Warmup (2.5 miles), 8x300 with 2:30 rest (...</td>\n",
       "    </tr>\n",
       "    <tr>\n",
       "      <th>227</th>\n",
       "      <td>2016-11-23</td>\n",
       "      <td>11.0</td>\n",
       "      <td>AM: Warmup (2.5 miles), 8x300 with 2:30 rest (...</td>\n",
       "      <td>8.0</td>\n",
       "      <td>8 mile run. Not able to do squats or RDLs.</td>\n",
       "    </tr>\n",
       "    <tr>\n",
       "      <th>228</th>\n",
       "      <td>2016-11-24</td>\n",
       "      <td>8.0</td>\n",
       "      <td>8 mile run. Not able to do squats or RDLs.</td>\n",
       "      <td>10.5</td>\n",
       "      <td>AM: Warmup (2 miles), 5x800 with 1:45 rest (Go...</td>\n",
       "    </tr>\n",
       "  </tbody>\n",
       "</table>\n",
       "</div>"
      ],
      "text/plain": [
       "          date  run_dist                                              notes  \\\n",
       "171 2016-10-10      10.0  AM: Warmup (2 miles), 2 sets of (80, 50, 50), ...   \n",
       "225 2016-11-21      10.0  AM: Warmup (2 miles), 8x150 (Extensive Tempo),...   \n",
       "226 2016-11-22       8.0  AM: Warmup (1.5 miles), Lift, Cooldown (1 mile...   \n",
       "227 2016-11-23      11.0  AM: Warmup (2.5 miles), 8x300 with 2:30 rest (...   \n",
       "228 2016-11-24       8.0         8 mile run. Not able to do squats or RDLs.   \n",
       "\n",
       "     run_dist_1                                            notes_1  \n",
       "171        10.0  AM: Warmup (1.5 miles), Lift, Cooldown (2 mile...  \n",
       "225         8.0  AM: Warmup (1.5 miles), Lift, Cooldown (1 mile...  \n",
       "226        11.0  AM: Warmup (2.5 miles), 8x300 with 2:30 rest (...  \n",
       "227         8.0         8 mile run. Not able to do squats or RDLs.  \n",
       "228        10.5  AM: Warmup (2 miles), 5x800 with 1:45 rest (Go...  "
      ]
     },
     "execution_count": 50,
     "metadata": {},
     "output_type": "execute_result"
    }
   ],
   "source": [
    "dat.head()"
   ]
  },
  {
   "cell_type": "code",
   "execution_count": 51,
   "metadata": {
    "collapsed": false
   },
   "outputs": [],
   "source": [
    "is_workout = nb_model_work.predict(dat['notes'])\n",
    "is_workout_1 = nb_model_work.predict(dat['notes_1'])\n",
    "difficulty = nb_model_diff.predict(dat['notes'])\n",
    "difficulty_1 = nb_model_diff.predict(dat['notes_1'])"
   ]
  },
  {
   "cell_type": "code",
   "execution_count": 52,
   "metadata": {
    "collapsed": false
   },
   "outputs": [],
   "source": [
    "dat_knn = pd.DataFrame({'run_dist':dat['run_dist'], 'difficulty':difficulty, 'is_workout':is_workout,\n",
    "                        'run_dist_1':dat['run_dist_1'], 'difficulty_1':difficulty_1, 'is_workout_1':is_workout_1})"
   ]
  },
  {
   "cell_type": "code",
   "execution_count": 54,
   "metadata": {
    "collapsed": false
   },
   "outputs": [
    {
     "data": {
      "text/html": [
       "<div>\n",
       "<style scoped>\n",
       "    .dataframe tbody tr th:only-of-type {\n",
       "        vertical-align: middle;\n",
       "    }\n",
       "\n",
       "    .dataframe tbody tr th {\n",
       "        vertical-align: top;\n",
       "    }\n",
       "\n",
       "    .dataframe thead th {\n",
       "        text-align: right;\n",
       "    }\n",
       "</style>\n",
       "<table border=\"1\" class=\"dataframe\">\n",
       "  <thead>\n",
       "    <tr style=\"text-align: right;\">\n",
       "      <th></th>\n",
       "      <th>difficulty</th>\n",
       "      <th>difficulty_1</th>\n",
       "      <th>is_workout</th>\n",
       "      <th>is_workout_1</th>\n",
       "      <th>run_dist</th>\n",
       "      <th>run_dist_1</th>\n",
       "    </tr>\n",
       "  </thead>\n",
       "  <tbody>\n",
       "    <tr>\n",
       "      <th>257</th>\n",
       "      <td>1</td>\n",
       "      <td>3</td>\n",
       "      <td>1</td>\n",
       "      <td>0</td>\n",
       "      <td>5.5</td>\n",
       "      <td>5.0</td>\n",
       "    </tr>\n",
       "    <tr>\n",
       "      <th>258</th>\n",
       "      <td>3</td>\n",
       "      <td>1</td>\n",
       "      <td>0</td>\n",
       "      <td>0</td>\n",
       "      <td>5.0</td>\n",
       "      <td>7.0</td>\n",
       "    </tr>\n",
       "    <tr>\n",
       "      <th>259</th>\n",
       "      <td>1</td>\n",
       "      <td>1</td>\n",
       "      <td>0</td>\n",
       "      <td>1</td>\n",
       "      <td>7.0</td>\n",
       "      <td>7.5</td>\n",
       "    </tr>\n",
       "    <tr>\n",
       "      <th>260</th>\n",
       "      <td>1</td>\n",
       "      <td>3</td>\n",
       "      <td>1</td>\n",
       "      <td>0</td>\n",
       "      <td>7.5</td>\n",
       "      <td>10.0</td>\n",
       "    </tr>\n",
       "    <tr>\n",
       "      <th>263</th>\n",
       "      <td>3</td>\n",
       "      <td>1</td>\n",
       "      <td>0</td>\n",
       "      <td>1</td>\n",
       "      <td>10.0</td>\n",
       "      <td>7.5</td>\n",
       "    </tr>\n",
       "    <tr>\n",
       "      <th>264</th>\n",
       "      <td>1</td>\n",
       "      <td>1</td>\n",
       "      <td>1</td>\n",
       "      <td>1</td>\n",
       "      <td>7.5</td>\n",
       "      <td>7.0</td>\n",
       "    </tr>\n",
       "    <tr>\n",
       "      <th>265</th>\n",
       "      <td>1</td>\n",
       "      <td>1</td>\n",
       "      <td>1</td>\n",
       "      <td>1</td>\n",
       "      <td>7.0</td>\n",
       "      <td>9.0</td>\n",
       "    </tr>\n",
       "    <tr>\n",
       "      <th>266</th>\n",
       "      <td>1</td>\n",
       "      <td>0</td>\n",
       "      <td>1</td>\n",
       "      <td>0</td>\n",
       "      <td>9.0</td>\n",
       "      <td>0.0</td>\n",
       "    </tr>\n",
       "    <tr>\n",
       "      <th>267</th>\n",
       "      <td>0</td>\n",
       "      <td>1</td>\n",
       "      <td>0</td>\n",
       "      <td>1</td>\n",
       "      <td>0.0</td>\n",
       "      <td>5.5</td>\n",
       "    </tr>\n",
       "    <tr>\n",
       "      <th>268</th>\n",
       "      <td>1</td>\n",
       "      <td>1</td>\n",
       "      <td>1</td>\n",
       "      <td>0</td>\n",
       "      <td>5.5</td>\n",
       "      <td>8.5</td>\n",
       "    </tr>\n",
       "  </tbody>\n",
       "</table>\n",
       "</div>"
      ],
      "text/plain": [
       "     difficulty  difficulty_1  is_workout  is_workout_1  run_dist  run_dist_1\n",
       "257           1             3           1             0       5.5         5.0\n",
       "258           3             1           0             0       5.0         7.0\n",
       "259           1             1           0             1       7.0         7.5\n",
       "260           1             3           1             0       7.5        10.0\n",
       "263           3             1           0             1      10.0         7.5\n",
       "264           1             1           1             1       7.5         7.0\n",
       "265           1             1           1             1       7.0         9.0\n",
       "266           1             0           1             0       9.0         0.0\n",
       "267           0             1           0             1       0.0         5.5\n",
       "268           1             1           1             0       5.5         8.5"
      ]
     },
     "execution_count": 54,
     "metadata": {},
     "output_type": "execute_result"
    }
   ],
   "source": [
    "dat_knn.iloc[120:130]"
   ]
  },
  {
   "cell_type": "code",
   "execution_count": 55,
   "metadata": {
    "collapsed": false
   },
   "outputs": [
    {
     "data": {
      "text/plain": [
       "(1972, 6)"
      ]
     },
     "execution_count": 55,
     "metadata": {},
     "output_type": "execute_result"
    }
   ],
   "source": [
    "dat_knn.shape"
   ]
  },
  {
   "cell_type": "code",
   "execution_count": 307,
   "metadata": {
    "collapsed": true
   },
   "outputs": [],
   "source": [
    "# Write file to xlsx -- DO NOT RUN THIS AGAIN--IT WILL OVERWRITE FILE\n",
    "#dat_knn.to_excel('dat_knn_2.xlsx')"
   ]
  },
  {
   "cell_type": "code",
   "execution_count": null,
   "metadata": {
    "collapsed": true
   },
   "outputs": [],
   "source": []
  }
 ],
 "metadata": {
  "anaconda-cloud": {},
  "kernelspec": {
   "display_name": "Python [Root]",
   "language": "python",
   "name": "Python [Root]"
  },
  "language_info": {
   "codemirror_mode": {
    "name": "ipython",
    "version": 2
   },
   "file_extension": ".py",
   "mimetype": "text/x-python",
   "name": "python",
   "nbconvert_exporter": "python",
   "pygments_lexer": "ipython2",
   "version": "2.7.12"
  }
 },
 "nbformat": 4,
 "nbformat_minor": 0
}
