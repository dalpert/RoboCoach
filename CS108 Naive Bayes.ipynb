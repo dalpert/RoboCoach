{
 "cells": [
  {
   "cell_type": "code",
   "execution_count": 1,
   "metadata": {
    "collapsed": true
   },
   "outputs": [],
   "source": [
    "# Libraries\n",
    "import numpy as np\n",
    "import pandas as pd\n",
    "import math\n",
    "\n",
    "from sklearn.feature_extraction.text import CountVectorizer\n",
    "from sklearn.feature_extraction.text import TfidfTransformer\n",
    "from sklearn.naive_bayes import MultinomialNB\n",
    "from sklearn.model_selection import train_test_split\n",
    "from sklearn.pipeline import Pipeline"
   ]
  },
  {
   "cell_type": "code",
   "execution_count": 2,
   "metadata": {
    "collapsed": true
   },
   "outputs": [],
   "source": [
    "# Running data - current day and next day\n",
    "dat = pd.read_excel('running_data.xlsx')"
   ]
  },
  {
   "cell_type": "code",
   "execution_count": 3,
   "metadata": {
    "collapsed": false
   },
   "outputs": [
    {
     "data": {
      "text/plain": [
       "(1972, 5)"
      ]
     },
     "execution_count": 3,
     "metadata": {},
     "output_type": "execute_result"
    }
   ],
   "source": [
    "dat.shape"
   ]
  },
  {
   "cell_type": "code",
   "execution_count": 4,
   "metadata": {
    "collapsed": false
   },
   "outputs": [
    {
     "data": {
      "text/html": [
       "<div>\n",
       "<style scoped>\n",
       "    .dataframe tbody tr th:only-of-type {\n",
       "        vertical-align: middle;\n",
       "    }\n",
       "\n",
       "    .dataframe tbody tr th {\n",
       "        vertical-align: top;\n",
       "    }\n",
       "\n",
       "    .dataframe thead th {\n",
       "        text-align: right;\n",
       "    }\n",
       "</style>\n",
       "<table border=\"1\" class=\"dataframe\">\n",
       "  <thead>\n",
       "    <tr style=\"text-align: right;\">\n",
       "      <th></th>\n",
       "      <th>date</th>\n",
       "      <th>run_dist</th>\n",
       "      <th>notes</th>\n",
       "      <th>run_dist_1</th>\n",
       "      <th>notes_1</th>\n",
       "    </tr>\n",
       "  </thead>\n",
       "  <tbody>\n",
       "    <tr>\n",
       "      <th>171</th>\n",
       "      <td>2016-10-10</td>\n",
       "      <td>10.0</td>\n",
       "      <td>AM: Warmup (2 miles), 2 sets of (80, 50, 50), ...</td>\n",
       "      <td>10.0</td>\n",
       "      <td>AM: Warmup (1.5 miles), Lift, Cooldown (2 mile...</td>\n",
       "    </tr>\n",
       "    <tr>\n",
       "      <th>225</th>\n",
       "      <td>2016-11-21</td>\n",
       "      <td>10.0</td>\n",
       "      <td>AM: Warmup (2 miles), 8x150 (Extensive Tempo),...</td>\n",
       "      <td>8.0</td>\n",
       "      <td>AM: Warmup (1.5 miles), Lift, Cooldown (1 mile...</td>\n",
       "    </tr>\n",
       "    <tr>\n",
       "      <th>226</th>\n",
       "      <td>2016-11-22</td>\n",
       "      <td>8.0</td>\n",
       "      <td>AM: Warmup (1.5 miles), Lift, Cooldown (1 mile...</td>\n",
       "      <td>11.0</td>\n",
       "      <td>AM: Warmup (2.5 miles), 8x300 with 2:30 rest (...</td>\n",
       "    </tr>\n",
       "    <tr>\n",
       "      <th>227</th>\n",
       "      <td>2016-11-23</td>\n",
       "      <td>11.0</td>\n",
       "      <td>AM: Warmup (2.5 miles), 8x300 with 2:30 rest (...</td>\n",
       "      <td>8.0</td>\n",
       "      <td>8 mile run. Not able to do squats or RDLs.</td>\n",
       "    </tr>\n",
       "    <tr>\n",
       "      <th>228</th>\n",
       "      <td>2016-11-24</td>\n",
       "      <td>8.0</td>\n",
       "      <td>8 mile run. Not able to do squats or RDLs.</td>\n",
       "      <td>10.5</td>\n",
       "      <td>AM: Warmup (2 miles), 5x800 with 1:45 rest (Go...</td>\n",
       "    </tr>\n",
       "  </tbody>\n",
       "</table>\n",
       "</div>"
      ],
      "text/plain": [
       "          date  run_dist                                              notes  \\\n",
       "171 2016-10-10      10.0  AM: Warmup (2 miles), 2 sets of (80, 50, 50), ...   \n",
       "225 2016-11-21      10.0  AM: Warmup (2 miles), 8x150 (Extensive Tempo),...   \n",
       "226 2016-11-22       8.0  AM: Warmup (1.5 miles), Lift, Cooldown (1 mile...   \n",
       "227 2016-11-23      11.0  AM: Warmup (2.5 miles), 8x300 with 2:30 rest (...   \n",
       "228 2016-11-24       8.0         8 mile run. Not able to do squats or RDLs.   \n",
       "\n",
       "     run_dist_1                                            notes_1  \n",
       "171        10.0  AM: Warmup (1.5 miles), Lift, Cooldown (2 mile...  \n",
       "225         8.0  AM: Warmup (1.5 miles), Lift, Cooldown (1 mile...  \n",
       "226        11.0  AM: Warmup (2.5 miles), 8x300 with 2:30 rest (...  \n",
       "227         8.0         8 mile run. Not able to do squats or RDLs.  \n",
       "228        10.5  AM: Warmup (2 miles), 5x800 with 1:45 rest (Go...  "
      ]
     },
     "execution_count": 4,
     "metadata": {},
     "output_type": "execute_result"
    }
   ],
   "source": [
    "dat.head()"
   ]
  },
  {
   "cell_type": "markdown",
   "metadata": {},
   "source": [
    "### Test on small dataset"
   ]
  },
  {
   "cell_type": "code",
   "execution_count": 36,
   "metadata": {
    "collapsed": true
   },
   "outputs": [],
   "source": [
    "#tr_small = pd.read_excel('rd_small_train.xlsx')\n",
    "#t_small = pd.read_excel('rd_small_test.xlsx')\n",
    "#v_small = pd.read_excel('rd_small_val.xlsx')"
   ]
  },
  {
   "cell_type": "code",
   "execution_count": 37,
   "metadata": {
    "collapsed": true
   },
   "outputs": [],
   "source": [
    "dat_small = pd.read_excel('rd_small_full.xlsx')"
   ]
  },
  {
   "cell_type": "code",
   "execution_count": 38,
   "metadata": {
    "collapsed": true
   },
   "outputs": [],
   "source": [
    "#frames = [tr_small, t_small, v_small]\n",
    "#dat_small = pd.concat(frames)"
   ]
  },
  {
   "cell_type": "code",
   "execution_count": 39,
   "metadata": {
    "collapsed": false
   },
   "outputs": [
    {
     "name": "stdout",
     "output_type": "stream",
     "text": [
      "(1972, 5)\n"
     ]
    },
    {
     "data": {
      "text/html": [
       "<div>\n",
       "<style scoped>\n",
       "    .dataframe tbody tr th:only-of-type {\n",
       "        vertical-align: middle;\n",
       "    }\n",
       "\n",
       "    .dataframe tbody tr th {\n",
       "        vertical-align: top;\n",
       "    }\n",
       "\n",
       "    .dataframe thead th {\n",
       "        text-align: right;\n",
       "    }\n",
       "</style>\n",
       "<table border=\"1\" class=\"dataframe\">\n",
       "  <thead>\n",
       "    <tr style=\"text-align: right;\">\n",
       "      <th></th>\n",
       "      <th>date</th>\n",
       "      <th>run_dist</th>\n",
       "      <th>notes</th>\n",
       "      <th>is_workout</th>\n",
       "      <th>difficulty</th>\n",
       "      <th>run_dist_1</th>\n",
       "      <th>notes_1</th>\n",
       "    </tr>\n",
       "  </thead>\n",
       "  <tbody>\n",
       "    <tr>\n",
       "      <th>0</th>\n",
       "      <td>2016-12-29</td>\n",
       "      <td>8.00</td>\n",
       "      <td>AM: 5 miles; PM: Warmup, lift, cooldown</td>\n",
       "      <td>0</td>\n",
       "      <td>0</td>\n",
       "      <td>9.0</td>\n",
       "      <td>AM: Warmup (2 miles), 3x1000 with 3:30 recover...</td>\n",
       "    </tr>\n",
       "    <tr>\n",
       "      <th>1</th>\n",
       "      <td>2015-07-26</td>\n",
       "      <td>10.00</td>\n",
       "      <td>Felt a little sore at the beginning of the run...</td>\n",
       "      <td>0</td>\n",
       "      <td>3</td>\n",
       "      <td>6.5</td>\n",
       "      <td>6 mile run at around 6:40 pace, 6x100 strides.</td>\n",
       "    </tr>\n",
       "    <tr>\n",
       "      <th>2</th>\n",
       "      <td>2015-07-28</td>\n",
       "      <td>7.50</td>\n",
       "      <td>AM: 3 mile run at around 6:40 pace; PM: Warm-u...</td>\n",
       "      <td>1</td>\n",
       "      <td>2</td>\n",
       "      <td>5.0</td>\n",
       "      <td>5 mile run at around 6:30 pace.</td>\n",
       "    </tr>\n",
       "    <tr>\n",
       "      <th>3</th>\n",
       "      <td>2015-08-19</td>\n",
       "      <td>6.00</td>\n",
       "      <td>6 mile run at 6:40 pace, 4x100 strides</td>\n",
       "      <td>0</td>\n",
       "      <td>3</td>\n",
       "      <td>7.0</td>\n",
       "      <td>7 mile run at 6:45 pace, 4x100 strides</td>\n",
       "    </tr>\n",
       "    <tr>\n",
       "      <th>4</th>\n",
       "      <td>2015-10-18</td>\n",
       "      <td>10.25</td>\n",
       "      <td>10 mile run in 61:00 at Minuteman, 4x100 strid...</td>\n",
       "      <td>0</td>\n",
       "      <td>1</td>\n",
       "      <td>8.0</td>\n",
       "      <td>AM: 3 miles; PM: Warmup (1.5 miles), 7x120 at ...</td>\n",
       "    </tr>\n",
       "  </tbody>\n",
       "</table>\n",
       "</div>"
      ],
      "text/plain": [
       "        date  run_dist                                              notes  \\\n",
       "0 2016-12-29      8.00            AM: 5 miles; PM: Warmup, lift, cooldown   \n",
       "1 2015-07-26     10.00  Felt a little sore at the beginning of the run...   \n",
       "2 2015-07-28      7.50  AM: 3 mile run at around 6:40 pace; PM: Warm-u...   \n",
       "3 2015-08-19      6.00             6 mile run at 6:40 pace, 4x100 strides   \n",
       "4 2015-10-18     10.25  10 mile run in 61:00 at Minuteman, 4x100 strid...   \n",
       "\n",
       "   is_workout  difficulty  run_dist_1  \\\n",
       "0           0           0         9.0   \n",
       "1           0           3         6.5   \n",
       "2           1           2         5.0   \n",
       "3           0           3         7.0   \n",
       "4           0           1         8.0   \n",
       "\n",
       "                                             notes_1  \n",
       "0  AM: Warmup (2 miles), 3x1000 with 3:30 recover...  \n",
       "1     6 mile run at around 6:40 pace, 6x100 strides.  \n",
       "2                    5 mile run at around 6:30 pace.  \n",
       "3             7 mile run at 6:45 pace, 4x100 strides  \n",
       "4  AM: 3 miles; PM: Warmup (1.5 miles), 7x120 at ...  "
      ]
     },
     "execution_count": 39,
     "metadata": {},
     "output_type": "execute_result"
    }
   ],
   "source": [
    "#dat_small = dat_small.reset_index()\n",
    "print dat.shape\n",
    "dat_small.head()"
   ]
  },
  {
   "cell_type": "code",
   "execution_count": 40,
   "metadata": {
    "collapsed": false
   },
   "outputs": [
    {
     "data": {
      "text/plain": [
       "date                                        2016-12-29 00:00:00\n",
       "run_dist                                                      8\n",
       "notes                   AM: 5 miles; PM: Warmup, lift, cooldown\n",
       "is_workout                                                    0\n",
       "difficulty                                                    0\n",
       "run_dist_1                                                    9\n",
       "notes_1       AM: Warmup (2 miles), 3x1000 with 3:30 recover...\n",
       "Name: 0, dtype: object"
      ]
     },
     "execution_count": 40,
     "metadata": {},
     "output_type": "execute_result"
    }
   ],
   "source": [
    "dat_small.iloc[0]"
   ]
  },
  {
   "cell_type": "code",
   "execution_count": 41,
   "metadata": {
    "collapsed": true
   },
   "outputs": [],
   "source": [
    "vectorizer = CountVectorizer(ngram_range=(1,2))\n",
    "X_feats = vectorizer.fit_transform(dat_small['notes'])"
   ]
  },
  {
   "cell_type": "code",
   "execution_count": 42,
   "metadata": {
    "collapsed": false
   },
   "outputs": [
    {
     "data": {
      "text/plain": [
       "(407, 9575)"
      ]
     },
     "execution_count": 42,
     "metadata": {},
     "output_type": "execute_result"
    }
   ],
   "source": [
    "X_feats.shape"
   ]
  },
  {
   "cell_type": "code",
   "execution_count": 76,
   "metadata": {
    "collapsed": false
   },
   "outputs": [],
   "source": [
    "X_train, X_test, y_train, y_test = train_test_split(X_feats, dat_small['difficulty'], test_size=0.25)"
   ]
  },
  {
   "cell_type": "code",
   "execution_count": 77,
   "metadata": {
    "collapsed": false
   },
   "outputs": [
    {
     "name": "stdout",
     "output_type": "stream",
     "text": [
      "Correct labels out of 102 points : 37\n",
      "Accuracy: 0.362745098039\n",
      "Within 1: 0.71568627451\n"
     ]
    }
   ],
   "source": [
    "mnb = MultinomialNB()\n",
    "nb_model = mnb.fit(X_train, y_train)\n",
    "y_pred = nb_model.predict(X_test)\n",
    "#y_pred = mnb.fit(X_train, train['label']).predict(X_test)\n",
    "print(\"Correct labels out of %d points : %d\"\n",
    "      % (X_test.shape[0],(y_test == y_pred).sum()))\n",
    "print 'Accuracy:', float(sum(y_test == y_pred))/X_test.shape[0]\n",
    "print 'Within 1:', float(sum((abs(y_test - y_pred) <= 1)))/X_test.shape[0]"
   ]
  },
  {
   "cell_type": "code",
   "execution_count": 78,
   "metadata": {
    "collapsed": true
   },
   "outputs": [],
   "source": [
    "results = pd.DataFrame(data = {'pred':y_pred, 'true':y_test}) #'diff':[abs(pred-true) for pred, true in zip(y_pred,y_test)]})"
   ]
  },
  {
   "cell_type": "code",
   "execution_count": 79,
   "metadata": {
    "collapsed": false
   },
   "outputs": [
    {
     "data": {
      "text/plain": [
       "(102, 2)"
      ]
     },
     "execution_count": 79,
     "metadata": {},
     "output_type": "execute_result"
    }
   ],
   "source": [
    "results.shape"
   ]
  },
  {
   "cell_type": "code",
   "execution_count": 80,
   "metadata": {
    "collapsed": false
   },
   "outputs": [
    {
     "data": {
      "text/html": [
       "<div>\n",
       "<style scoped>\n",
       "    .dataframe tbody tr th:only-of-type {\n",
       "        vertical-align: middle;\n",
       "    }\n",
       "\n",
       "    .dataframe tbody tr th {\n",
       "        vertical-align: top;\n",
       "    }\n",
       "\n",
       "    .dataframe thead th {\n",
       "        text-align: right;\n",
       "    }\n",
       "</style>\n",
       "<table border=\"1\" class=\"dataframe\">\n",
       "  <thead>\n",
       "    <tr style=\"text-align: right;\">\n",
       "      <th></th>\n",
       "      <th>pred</th>\n",
       "      <th>true</th>\n",
       "    </tr>\n",
       "  </thead>\n",
       "  <tbody>\n",
       "    <tr>\n",
       "      <th>77</th>\n",
       "      <td>0</td>\n",
       "      <td>0</td>\n",
       "    </tr>\n",
       "    <tr>\n",
       "      <th>80</th>\n",
       "      <td>0</td>\n",
       "      <td>0</td>\n",
       "    </tr>\n",
       "  </tbody>\n",
       "</table>\n",
       "</div>"
      ],
      "text/plain": [
       "    pred  true\n",
       "77     0     0\n",
       "80     0     0"
      ]
     },
     "execution_count": 80,
     "metadata": {},
     "output_type": "execute_result"
    }
   ],
   "source": [
    "results[results['pred'] == 0]"
   ]
  },
  {
   "cell_type": "code",
   "execution_count": 81,
   "metadata": {
    "collapsed": false
   },
   "outputs": [],
   "source": [
    "res = results[(results['true'] != 0) & (results['pred'] != 0)]"
   ]
  },
  {
   "cell_type": "code",
   "execution_count": 82,
   "metadata": {
    "collapsed": false
   },
   "outputs": [
    {
     "name": "stdout",
     "output_type": "stream",
     "text": [
      "Accuracy: 0.380434782609\n",
      "Within 1: 0.75\n"
     ]
    }
   ],
   "source": [
    "print 'Accuracy:', float(sum(res['pred'] == res['true']))/res.shape[0]\n",
    "print 'Within 1:', float(sum((abs(res['pred'] - res['true']) <= 1)))/res.shape[0]"
   ]
  },
  {
   "cell_type": "code",
   "execution_count": 45,
   "metadata": {
    "collapsed": true
   },
   "outputs": [],
   "source": [
    "y_probs = nb_model.predict_proba(X_test)"
   ]
  },
  {
   "cell_type": "code",
   "execution_count": 46,
   "metadata": {
    "collapsed": false
   },
   "outputs": [
    {
     "data": {
      "text/plain": [
       "array([  1.30129555e-11,   8.62595128e-01,   3.06114407e-03,\n",
       "         3.38376562e-03,   1.30956930e-01,   3.03221600e-06])"
      ]
     },
     "execution_count": 46,
     "metadata": {},
     "output_type": "execute_result"
    }
   ],
   "source": [
    "y_probs[0]"
   ]
  },
  {
   "cell_type": "code",
   "execution_count": 47,
   "metadata": {
    "collapsed": false
   },
   "outputs": [
    {
     "data": {
      "text/plain": [
       "1"
      ]
     },
     "execution_count": 47,
     "metadata": {},
     "output_type": "execute_result"
    }
   ],
   "source": [
    "y_test.iloc[0]"
   ]
  },
  {
   "cell_type": "code",
   "execution_count": 63,
   "metadata": {
    "collapsed": false
   },
   "outputs": [
    {
     "name": "stdout",
     "output_type": "stream",
     "text": [
      "5\n"
     ]
    },
    {
     "data": {
      "text/plain": [
       "u\"Day off, feeling a bit sick (don't do too well with travel), so day off was good.\""
      ]
     },
     "execution_count": 63,
     "metadata": {},
     "output_type": "execute_result"
    }
   ],
   "source": [
    "i = 164\n",
    "print dat_small['difficulty'].iloc[i]\n",
    "dat_small['notes'].iloc[i]"
   ]
  },
  {
   "cell_type": "code",
   "execution_count": 246,
   "metadata": {
    "collapsed": false
   },
   "outputs": [
    {
     "data": {
      "text/plain": [
       "<102x9575 sparse matrix of type '<type 'numpy.int64'>'\n",
       "\twith 5730 stored elements in Compressed Sparse Row format>"
      ]
     },
     "execution_count": 246,
     "metadata": {},
     "output_type": "execute_result"
    }
   ],
   "source": [
    "X_test"
   ]
  },
  {
   "cell_type": "code",
   "execution_count": 248,
   "metadata": {
    "collapsed": false
   },
   "outputs": [
    {
     "name": "stdout",
     "output_type": "stream",
     "text": [
      "Correct labels out of 102 points : 41\n",
      "Accuracy: 0.401960784314\n",
      "Correct labels out of 102 points : 35\n",
      "Accuracy: 0.343137254902\n",
      "Correct labels out of 102 points : 37\n",
      "Accuracy: 0.362745098039\n",
      "Correct labels out of 102 points : 36\n",
      "Accuracy: 0.352941176471\n",
      "Correct labels out of 102 points : 38\n",
      "Accuracy: 0.372549019608\n",
      "Correct labels out of 102 points : 31\n",
      "Accuracy: 0.303921568627\n",
      "Correct labels out of 102 points : 43\n",
      "Accuracy: 0.421568627451\n",
      "Correct labels out of 102 points : 38\n",
      "Accuracy: 0.372549019608\n",
      "Correct labels out of 102 points : 38\n",
      "Accuracy: 0.372549019608\n",
      "Correct labels out of 102 points : 39\n",
      "Accuracy: 0.382352941176\n",
      "Correct labels out of 102 points : 31\n",
      "Accuracy: 0.303921568627\n",
      "Correct labels out of 102 points : 41\n",
      "Accuracy: 0.401960784314\n",
      "Correct labels out of 102 points : 40\n",
      "Accuracy: 0.392156862745\n",
      "Correct labels out of 102 points : 35\n",
      "Accuracy: 0.343137254902\n",
      "Correct labels out of 102 points : 35\n",
      "Accuracy: 0.343137254902\n",
      "Correct labels out of 102 points : 35\n",
      "Accuracy: 0.343137254902\n",
      "Correct labels out of 102 points : 32\n",
      "Accuracy: 0.313725490196\n",
      "Correct labels out of 102 points : 39\n",
      "Accuracy: 0.382352941176\n",
      "Correct labels out of 102 points : 39\n",
      "Accuracy: 0.382352941176\n",
      "Correct labels out of 102 points : 35\n",
      "Accuracy: 0.343137254902\n"
     ]
    }
   ],
   "source": [
    "accuracy = [None]*20\n",
    "accuracy_within_1 = [None]*20\n",
    "for j in range(20):  \n",
    "    X_train, X_test, y_train, y_test = train_test_split(X_feats, dat_small['difficulty'], test_size=0.25, random_state=j)\n",
    "    mnb = MultinomialNB()\n",
    "    nb_model = mnb.fit(X_train, y_train)\n",
    "    y_pred = nb_model.predict(X_test)\n",
    "    #y_pred = mnb.fit(X_train, train['label']).predict(X_test)\n",
    "    print(\"Correct labels out of %d points : %d\"\n",
    "          % (X_test.shape[0],(y_test == y_pred).sum()))\n",
    "    print('Accuracy:', (y_test == y_pred).sum()/X_test.shape[0])\n",
    "    accuracy[j] = (y_test == y_pred).sum()/X_test.shape[0]\n",
    "    accuracy_within_1[j] = (abs(y_test - y_pred) <= 1).sum()/X_test.shape[0]"
   ]
  },
  {
   "cell_type": "code",
   "execution_count": 249,
   "metadata": {
    "collapsed": false
   },
   "outputs": [
    {
     "name": "stdout",
     "output_type": "stream",
     "text": [
      "0.361764705882\n",
      "0.75\n"
     ]
    }
   ],
   "source": [
    "print(sum(accuracy)/len(accuracy))\n",
    "print(sum(accuracy_within_1)/len(accuracy_within_1))"
   ]
  },
  {
   "cell_type": "code",
   "execution_count": null,
   "metadata": {
    "collapsed": true
   },
   "outputs": [],
   "source": []
  },
  {
   "cell_type": "code",
   "execution_count": 250,
   "metadata": {
    "collapsed": false
   },
   "outputs": [
    {
     "data": {
      "text/html": [
       "<div>\n",
       "<style scoped>\n",
       "    .dataframe tbody tr th:only-of-type {\n",
       "        vertical-align: middle;\n",
       "    }\n",
       "\n",
       "    .dataframe tbody tr th {\n",
       "        vertical-align: top;\n",
       "    }\n",
       "\n",
       "    .dataframe thead th {\n",
       "        text-align: right;\n",
       "    }\n",
       "</style>\n",
       "<table border=\"1\" class=\"dataframe\">\n",
       "  <thead>\n",
       "    <tr style=\"text-align: right;\">\n",
       "      <th></th>\n",
       "      <th>date</th>\n",
       "      <th>run_dist</th>\n",
       "      <th>notes</th>\n",
       "      <th>run_dist_1</th>\n",
       "      <th>notes_1</th>\n",
       "    </tr>\n",
       "  </thead>\n",
       "  <tbody>\n",
       "    <tr>\n",
       "      <th>171</th>\n",
       "      <td>2016-10-10</td>\n",
       "      <td>10.0</td>\n",
       "      <td>AM: Warmup (2 miles), 2 sets of (80, 50, 50), ...</td>\n",
       "      <td>10.0</td>\n",
       "      <td>AM: Warmup (1.5 miles), Lift, Cooldown (2 mile...</td>\n",
       "    </tr>\n",
       "    <tr>\n",
       "      <th>225</th>\n",
       "      <td>2016-11-21</td>\n",
       "      <td>10.0</td>\n",
       "      <td>AM: Warmup (2 miles), 8x150 (Extensive Tempo),...</td>\n",
       "      <td>8.0</td>\n",
       "      <td>AM: Warmup (1.5 miles), Lift, Cooldown (1 mile...</td>\n",
       "    </tr>\n",
       "    <tr>\n",
       "      <th>226</th>\n",
       "      <td>2016-11-22</td>\n",
       "      <td>8.0</td>\n",
       "      <td>AM: Warmup (1.5 miles), Lift, Cooldown (1 mile...</td>\n",
       "      <td>11.0</td>\n",
       "      <td>AM: Warmup (2.5 miles), 8x300 with 2:30 rest (...</td>\n",
       "    </tr>\n",
       "    <tr>\n",
       "      <th>227</th>\n",
       "      <td>2016-11-23</td>\n",
       "      <td>11.0</td>\n",
       "      <td>AM: Warmup (2.5 miles), 8x300 with 2:30 rest (...</td>\n",
       "      <td>8.0</td>\n",
       "      <td>8 mile run. Not able to do squats or RDLs.</td>\n",
       "    </tr>\n",
       "    <tr>\n",
       "      <th>228</th>\n",
       "      <td>2016-11-24</td>\n",
       "      <td>8.0</td>\n",
       "      <td>8 mile run. Not able to do squats or RDLs.</td>\n",
       "      <td>10.5</td>\n",
       "      <td>AM: Warmup (2 miles), 5x800 with 1:45 rest (Go...</td>\n",
       "    </tr>\n",
       "  </tbody>\n",
       "</table>\n",
       "</div>"
      ],
      "text/plain": [
       "          date  run_dist                                              notes  \\\n",
       "171 2016-10-10      10.0  AM: Warmup (2 miles), 2 sets of (80, 50, 50), ...   \n",
       "225 2016-11-21      10.0  AM: Warmup (2 miles), 8x150 (Extensive Tempo),...   \n",
       "226 2016-11-22       8.0  AM: Warmup (1.5 miles), Lift, Cooldown (1 mile...   \n",
       "227 2016-11-23      11.0  AM: Warmup (2.5 miles), 8x300 with 2:30 rest (...   \n",
       "228 2016-11-24       8.0         8 mile run. Not able to do squats or RDLs.   \n",
       "\n",
       "     run_dist_1                                            notes_1  \n",
       "171        10.0  AM: Warmup (1.5 miles), Lift, Cooldown (2 mile...  \n",
       "225         8.0  AM: Warmup (1.5 miles), Lift, Cooldown (1 mile...  \n",
       "226        11.0  AM: Warmup (2.5 miles), 8x300 with 2:30 rest (...  \n",
       "227         8.0         8 mile run. Not able to do squats or RDLs.  \n",
       "228        10.5  AM: Warmup (2 miles), 5x800 with 1:45 rest (Go...  "
      ]
     },
     "execution_count": 250,
     "metadata": {},
     "output_type": "execute_result"
    }
   ],
   "source": [
    "dat.head()"
   ]
  },
  {
   "cell_type": "code",
   "execution_count": 297,
   "metadata": {
    "collapsed": false
   },
   "outputs": [
    {
     "name": "stdout",
     "output_type": "stream",
     "text": [
      "0.421568627451\n",
      "0.813725490196\n",
      "0.911764705882\n"
     ]
    }
   ],
   "source": [
    "X_train_diff, X_test_diff, y_train_diff, y_test_diff = train_test_split(dat_small['notes'], dat_small['difficulty'], test_size=0.25)\n",
    "X_train_work, X_test_work, y_train_work, y_test_work = train_test_split(dat_small['notes'], dat_small['is_workout'], test_size=0.25)\n",
    "\n",
    "nb_model_diff = Pipeline([('vect', CountVectorizer(ngram_range=(1,2))), \n",
    "                     ('tfidf', TfidfTransformer()), ('clf', MultinomialNB()),])\n",
    "nb_model_work = Pipeline([('vect', CountVectorizer(ngram_range=(1,2))), ('clf', MultinomialNB()),])\n",
    "nb_model_diff.fit(X_train_diff, y_train_diff)\n",
    "nb_model_work.fit(X_train_work, y_train_work)\n",
    "#print(nb_model_diff.predict_proba(X_test_diff))\n",
    "pred_diff = nb_model_diff.predict(X_test_diff)\n",
    "pred_work = nb_model_work.predict(X_test_work)\n",
    "print((sum(y_test_diff == pred_diff))/X_test_diff.shape[0])\n",
    "print(sum((abs(y_test_diff - pred_diff) <= 1))/X_test_diff.shape[0])\n",
    "print((sum(y_test_work == pred_work))/X_test_work.shape[0])"
   ]
  },
  {
   "cell_type": "code",
   "execution_count": 298,
   "metadata": {
    "collapsed": false
   },
   "outputs": [
    {
     "data": {
      "text/html": [
       "<div>\n",
       "<style scoped>\n",
       "    .dataframe tbody tr th:only-of-type {\n",
       "        vertical-align: middle;\n",
       "    }\n",
       "\n",
       "    .dataframe tbody tr th {\n",
       "        vertical-align: top;\n",
       "    }\n",
       "\n",
       "    .dataframe thead th {\n",
       "        text-align: right;\n",
       "    }\n",
       "</style>\n",
       "<table border=\"1\" class=\"dataframe\">\n",
       "  <thead>\n",
       "    <tr style=\"text-align: right;\">\n",
       "      <th></th>\n",
       "      <th>date</th>\n",
       "      <th>run_dist</th>\n",
       "      <th>notes</th>\n",
       "      <th>run_dist_1</th>\n",
       "      <th>notes_1</th>\n",
       "    </tr>\n",
       "  </thead>\n",
       "  <tbody>\n",
       "    <tr>\n",
       "      <th>171</th>\n",
       "      <td>2016-10-10</td>\n",
       "      <td>10.0</td>\n",
       "      <td>AM: Warmup (2 miles), 2 sets of (80, 50, 50), ...</td>\n",
       "      <td>10.0</td>\n",
       "      <td>AM: Warmup (1.5 miles), Lift, Cooldown (2 mile...</td>\n",
       "    </tr>\n",
       "    <tr>\n",
       "      <th>225</th>\n",
       "      <td>2016-11-21</td>\n",
       "      <td>10.0</td>\n",
       "      <td>AM: Warmup (2 miles), 8x150 (Extensive Tempo),...</td>\n",
       "      <td>8.0</td>\n",
       "      <td>AM: Warmup (1.5 miles), Lift, Cooldown (1 mile...</td>\n",
       "    </tr>\n",
       "    <tr>\n",
       "      <th>226</th>\n",
       "      <td>2016-11-22</td>\n",
       "      <td>8.0</td>\n",
       "      <td>AM: Warmup (1.5 miles), Lift, Cooldown (1 mile...</td>\n",
       "      <td>11.0</td>\n",
       "      <td>AM: Warmup (2.5 miles), 8x300 with 2:30 rest (...</td>\n",
       "    </tr>\n",
       "    <tr>\n",
       "      <th>227</th>\n",
       "      <td>2016-11-23</td>\n",
       "      <td>11.0</td>\n",
       "      <td>AM: Warmup (2.5 miles), 8x300 with 2:30 rest (...</td>\n",
       "      <td>8.0</td>\n",
       "      <td>8 mile run. Not able to do squats or RDLs.</td>\n",
       "    </tr>\n",
       "    <tr>\n",
       "      <th>228</th>\n",
       "      <td>2016-11-24</td>\n",
       "      <td>8.0</td>\n",
       "      <td>8 mile run. Not able to do squats or RDLs.</td>\n",
       "      <td>10.5</td>\n",
       "      <td>AM: Warmup (2 miles), 5x800 with 1:45 rest (Go...</td>\n",
       "    </tr>\n",
       "  </tbody>\n",
       "</table>\n",
       "</div>"
      ],
      "text/plain": [
       "          date  run_dist                                              notes  \\\n",
       "171 2016-10-10      10.0  AM: Warmup (2 miles), 2 sets of (80, 50, 50), ...   \n",
       "225 2016-11-21      10.0  AM: Warmup (2 miles), 8x150 (Extensive Tempo),...   \n",
       "226 2016-11-22       8.0  AM: Warmup (1.5 miles), Lift, Cooldown (1 mile...   \n",
       "227 2016-11-23      11.0  AM: Warmup (2.5 miles), 8x300 with 2:30 rest (...   \n",
       "228 2016-11-24       8.0         8 mile run. Not able to do squats or RDLs.   \n",
       "\n",
       "     run_dist_1                                            notes_1  \n",
       "171        10.0  AM: Warmup (1.5 miles), Lift, Cooldown (2 mile...  \n",
       "225         8.0  AM: Warmup (1.5 miles), Lift, Cooldown (1 mile...  \n",
       "226        11.0  AM: Warmup (2.5 miles), 8x300 with 2:30 rest (...  \n",
       "227         8.0         8 mile run. Not able to do squats or RDLs.  \n",
       "228        10.5  AM: Warmup (2 miles), 5x800 with 1:45 rest (Go...  "
      ]
     },
     "execution_count": 298,
     "metadata": {},
     "output_type": "execute_result"
    }
   ],
   "source": [
    "dat.head()"
   ]
  },
  {
   "cell_type": "code",
   "execution_count": 301,
   "metadata": {
    "collapsed": false
   },
   "outputs": [],
   "source": [
    "is_workout = nb_model_work.predict(dat['notes'])\n",
    "is_workout_1 = nb_model_work.predict(dat['notes_1'])\n",
    "difficulty = nb_model_diff.predict(dat['notes'])\n",
    "difficulty_1 = nb_model_diff.predict(dat['notes_1'])"
   ]
  },
  {
   "cell_type": "code",
   "execution_count": 303,
   "metadata": {
    "collapsed": false
   },
   "outputs": [],
   "source": [
    "dat_knn = pd.DataFrame({'run_dist':dat['run_dist'], 'difficulty':difficulty, 'is_workout':is_workout,\n",
    "                        'run_dist_1':dat['run_dist_1'], 'difficulty_1':difficulty_1, 'is_workout_1':is_workout_1})"
   ]
  },
  {
   "cell_type": "code",
   "execution_count": 306,
   "metadata": {
    "collapsed": false
   },
   "outputs": [
    {
     "data": {
      "text/html": [
       "<div>\n",
       "<style scoped>\n",
       "    .dataframe tbody tr th:only-of-type {\n",
       "        vertical-align: middle;\n",
       "    }\n",
       "\n",
       "    .dataframe tbody tr th {\n",
       "        vertical-align: top;\n",
       "    }\n",
       "\n",
       "    .dataframe thead th {\n",
       "        text-align: right;\n",
       "    }\n",
       "</style>\n",
       "<table border=\"1\" class=\"dataframe\">\n",
       "  <thead>\n",
       "    <tr style=\"text-align: right;\">\n",
       "      <th></th>\n",
       "      <th>difficulty</th>\n",
       "      <th>difficulty_1</th>\n",
       "      <th>is_workout</th>\n",
       "      <th>is_workout_1</th>\n",
       "      <th>run_dist</th>\n",
       "      <th>run_dist_1</th>\n",
       "    </tr>\n",
       "  </thead>\n",
       "  <tbody>\n",
       "    <tr>\n",
       "      <th>219</th>\n",
       "      <td>1</td>\n",
       "      <td>1</td>\n",
       "      <td>1</td>\n",
       "      <td>0</td>\n",
       "      <td>9.00</td>\n",
       "      <td>5.00</td>\n",
       "    </tr>\n",
       "    <tr>\n",
       "      <th>220</th>\n",
       "      <td>1</td>\n",
       "      <td>4</td>\n",
       "      <td>0</td>\n",
       "      <td>1</td>\n",
       "      <td>5.00</td>\n",
       "      <td>7.00</td>\n",
       "    </tr>\n",
       "    <tr>\n",
       "      <th>221</th>\n",
       "      <td>4</td>\n",
       "      <td>1</td>\n",
       "      <td>1</td>\n",
       "      <td>1</td>\n",
       "      <td>7.00</td>\n",
       "      <td>7.00</td>\n",
       "    </tr>\n",
       "    <tr>\n",
       "      <th>224</th>\n",
       "      <td>1</td>\n",
       "      <td>1</td>\n",
       "      <td>1</td>\n",
       "      <td>0</td>\n",
       "      <td>4.50</td>\n",
       "      <td>10.25</td>\n",
       "    </tr>\n",
       "    <tr>\n",
       "      <th>227</th>\n",
       "      <td>1</td>\n",
       "      <td>1</td>\n",
       "      <td>0</td>\n",
       "      <td>1</td>\n",
       "      <td>10.25</td>\n",
       "      <td>9.00</td>\n",
       "    </tr>\n",
       "  </tbody>\n",
       "</table>\n",
       "</div>"
      ],
      "text/plain": [
       "     difficulty  difficulty_1  is_workout  is_workout_1  run_dist  run_dist_1\n",
       "219           1             1           1             0      9.00        5.00\n",
       "220           1             4           0             1      5.00        7.00\n",
       "221           4             1           1             1      7.00        7.00\n",
       "224           1             1           1             0      4.50       10.25\n",
       "227           1             1           0             1     10.25        9.00"
      ]
     },
     "execution_count": 306,
     "metadata": {},
     "output_type": "execute_result"
    }
   ],
   "source": [
    "dat_knn.iloc[100:105]"
   ]
  },
  {
   "cell_type": "code",
   "execution_count": 305,
   "metadata": {
    "collapsed": false
   },
   "outputs": [
    {
     "data": {
      "text/plain": [
       "(1972, 6)"
      ]
     },
     "execution_count": 305,
     "metadata": {},
     "output_type": "execute_result"
    }
   ],
   "source": [
    "dat_knn.shape"
   ]
  },
  {
   "cell_type": "code",
   "execution_count": 307,
   "metadata": {
    "collapsed": true
   },
   "outputs": [],
   "source": [
    "dat_knn.to_excel('dat_knn.xlsx')"
   ]
  },
  {
   "cell_type": "code",
   "execution_count": null,
   "metadata": {
    "collapsed": true
   },
   "outputs": [],
   "source": []
  },
  {
   "cell_type": "code",
   "execution_count": null,
   "metadata": {
    "collapsed": true
   },
   "outputs": [],
   "source": []
  },
  {
   "cell_type": "code",
   "execution_count": 1,
   "metadata": {
    "collapsed": true
   },
   "outputs": [],
   "source": [
    "def make_predictions(X, Y, val_X, val_Y, test_X, test_Y, s):\n",
    "    # classifier = sklearn.svm.LinearSVC(n_jobs=2)\n",
    "    classifier = sklearn.linear_model.LogisticRegression(n_jobs=2)\n",
    "    # classifier = sklearn.naive_bayes.GaussianNB()\n",
    "    # classifier = sklearn.svm.SVC(probability=True) # hard to scale to dataset with more than a couple of 10000 samples.\n",
    "\n",
    "    total_data = X.shape[0]\n",
    "    #subset for analysis\n",
    "    # X = X[:round(total_data*s), :]\n",
    "    # Y = Y[:round(total_data*s)]\n",
    "\n",
    "    # print(s)\n",
    "    # print(\"WITH {} TRAINING POINTS\".format(X.shape[0]))\n",
    "\n",
    "    classifier.fit(X, Y)\n",
    "    test_y_hat = classifier.predict(test_X)\n",
    "    results = sklearn.metrics.classification_report(test_Y, test_y_hat, digits=3)\n",
    "    print('results: {0}'.format(results))\n",
    "    accuracy_score = sklearn.metrics.accuracy_score(test_Y, test_y_hat)\n",
    "    print('accuracy_score: {0}'.format(accuracy_score))\n",
    "\n",
    "    roc_auc_score = sklearn.metrics.roc_auc_score(test_Y, test_y_hat)\n",
    "    print('roc_auc_score: {0}'.format(roc_auc_score))\n",
    "\n",
    "    # Plot ROC\n",
    "    false_positive_rate, true_positive_rate, thresholds = sklearn.metrics.roc_curve(test_Y,\n",
    "                                                                                    test_y_hat)\n",
    "    return accuracy_score, roc_auc_score"
   ]
  },
  {
   "cell_type": "code",
   "execution_count": null,
   "metadata": {
    "collapsed": true
   },
   "outputs": [],
   "source": []
  },
  {
   "cell_type": "code",
   "execution_count": null,
   "metadata": {
    "collapsed": true
   },
   "outputs": [],
   "source": []
  },
  {
   "cell_type": "code",
   "execution_count": 3,
   "metadata": {
    "collapsed": false
   },
   "outputs": [],
   "source": [
    "'''\n",
    "Text classification\n",
    "'''\n",
    "from __future__ import print_function\n",
    "from __future__ import division\n",
    "import matplotlib\n",
    "matplotlib.use('Agg')\n",
    "import matplotlib.pyplot as plt\n",
    "import numpy as np\n",
    "import os\n",
    "import sklearn\n",
    "import sklearn.multiclass\n",
    "import sklearn.svm\n",
    "import sklearn.cross_validation\n",
    "import sklearn.linear_model\n",
    "import sklearn.naive_bayes\n",
    "import sklearn.externals.joblib\n",
    "import sklearn.metrics\n",
    "import sklearn.feature_extraction.text\n",
    "from nltk.tokenize import TreebankWordTokenizer\n",
    "import utils\n",
    "import argparse\n",
    "import h5py\n",
    "if utils.is_python3():\n",
    "    import configparser as ConfigParser\n",
    "else:\n",
    "    import ConfigParser\n",
    "    import scipy"
   ]
  },
  {
   "cell_type": "code",
   "execution_count": 4,
   "metadata": {
    "collapsed": false
   },
   "outputs": [
    {
     "name": "stdout",
     "output_type": "stream",
     "text": [
      "The NumPy version is 1.13.3.\n",
      "The scikit-learn version is 0.19.1.\n",
      "The SciPy version is 1.0.0\n",
      "\n"
     ]
    }
   ],
   "source": [
    "print('The NumPy version is {0}.'.format(np.version.version))\n",
    "print('The scikit-learn version is {0}.'.format(sklearn.__version__))\n",
    "print('The SciPy version is {0}\\n'.format(scipy.version.full_version))  # requires SciPy >= 0.16.0\n",
    "\n",
    "def extract_features(X, val_X, test_X, max_ngram_size=2):\n",
    "    print('max_ngram_size: {0}'.format(max_ngram_size))\n",
    "\n",
    "    def make_text_list(X):\n",
    "\n",
    "        return [' '.join([str(num) for num in x]) for x in X]\n",
    "\n",
    "    print(\"Creating N-grams\")\n",
    "    X_texts = make_text_list(X)\n",
    "    print(\"Creating N-grams for valid\")\n",
    "    val_X_texts = make_text_list(val_X)\n",
    "    print(\"Creating N-grams for test\")\n",
    "    test_X_texts = make_text_list(test_X)\n",
    "    all_texts = X_texts + val_X_texts + test_X_texts\n",
    "\n",
    "    vect = sklearn.feature_extraction.text.CountVectorizer(ngram_range=(1, max_ngram_size),\n",
    "                                                           tokenizer=TreebankWordTokenizer().tokenize)\n",
    "    vect.fit(all_texts)  # build ngram dictionary\n",
    "    X_features = vect.transform(X_texts)\n",
    "    val_X_features = vect.transform(val_X_texts)\n",
    "    test_X_features = vect.transform(test_X_texts)\n",
    "\n",
    "    #print('features.shape: {0}'.format(features.shape))\n",
    "    #np.savez(features_filepath, features=features)\n",
    "    #np.savez(\"converted/X_features-\"+str(max_ngram_size)+\".npz\", features=X_features)\n",
    "    #np.savez(\"converted/val_X_features-\"+str(max_ngram_size)+\".npz\", features=val_X_features)\n",
    "    #np.savez(\"converted/test_X_features-\"+str(max_ngram_size)+\".npz\", features=test_X_features)\n",
    "\n",
    "    return X_features, val_X_features, test_X_features"
   ]
  },
  {
   "cell_type": "code",
   "execution_count": 5,
   "metadata": {
    "collapsed": true
   },
   "outputs": [],
   "source": [
    "def make_predictions(X, Y, val_X, val_Y, test_X, test_Y, s):\n",
    "    # classifier = sklearn.svm.LinearSVC(n_jobs=2)\n",
    "    classifier = sklearn.linear_model.LogisticRegression(n_jobs=2)\n",
    "    # classifier = sklearn.naive_bayes.GaussianNB()\n",
    "    # classifier = sklearn.svm.SVC(probability=True) # hard to scale to dataset with more than a couple of 10000 samples.\n",
    "\n",
    "    total_data = X.shape[0]\n",
    "    #subset for analysis\n",
    "    # X = X[:round(total_data*s), :]\n",
    "    # Y = Y[:round(total_data*s)]\n",
    "\n",
    "    # print(s)\n",
    "    # print(\"WITH {} TRAINING POINTS\".format(X.shape[0]))\n",
    "\n",
    "    classifier.fit(X, Y)\n",
    "    test_y_hat = classifier.predict(test_X)\n",
    "    results = sklearn.metrics.classification_report(test_Y, test_y_hat, digits=3)\n",
    "    print('results: {0}'.format(results))\n",
    "    accuracy_score = sklearn.metrics.accuracy_score(test_Y, test_y_hat)\n",
    "    print('accuracy_score: {0}'.format(accuracy_score))\n",
    "\n",
    "    roc_auc_score = sklearn.metrics.roc_auc_score(test_Y, test_y_hat)\n",
    "    print('roc_auc_score: {0}'.format(roc_auc_score))\n",
    "\n",
    "    # Plot ROC\n",
    "    false_positive_rate, true_positive_rate, thresholds = sklearn.metrics.roc_curve(test_Y,\n",
    "                                                                                    test_y_hat)\n",
    "    return accuracy_score, roc_auc_score"
   ]
  },
  {
   "cell_type": "code",
   "execution_count": 6,
   "metadata": {
    "collapsed": false
   },
   "outputs": [
    {
     "ename": "NameError",
     "evalue": "name 'train' is not defined",
     "output_type": "error",
     "traceback": [
      "\u001b[0;31m---------------------------------------------------------------------------\u001b[0m",
      "\u001b[0;31mNameError\u001b[0m                                 Traceback (most recent call last)",
      "\u001b[0;32m<ipython-input-6-94e1c653c0c1>\u001b[0m in \u001b[0;36m<module>\u001b[0;34m()\u001b[0m\n\u001b[0;32m----> 1\u001b[0;31m \u001b[0mfeats\u001b[0m \u001b[0;34m=\u001b[0m \u001b[0mextract_features\u001b[0m\u001b[0;34m(\u001b[0m\u001b[0mtrain\u001b[0m\u001b[0;34m[\u001b[0m\u001b[0;34m'notes'\u001b[0m\u001b[0;34m]\u001b[0m\u001b[0;34m,\u001b[0m \u001b[0mval\u001b[0m\u001b[0;34m[\u001b[0m\u001b[0;34m'notes'\u001b[0m\u001b[0;34m]\u001b[0m\u001b[0;34m,\u001b[0m \u001b[0mtest\u001b[0m\u001b[0;34m[\u001b[0m\u001b[0;34m'notes'\u001b[0m\u001b[0;34m]\u001b[0m\u001b[0;34m)\u001b[0m\u001b[0;34m\u001b[0m\u001b[0m\n\u001b[0m",
      "\u001b[0;31mNameError\u001b[0m: name 'train' is not defined"
     ]
    }
   ],
   "source": [
    "feats = extract_features(train['notes'], val['notes'], test['notes'])"
   ]
  },
  {
   "cell_type": "code",
   "execution_count": 115,
   "metadata": {
    "collapsed": false
   },
   "outputs": [
    {
     "data": {
      "text/plain": [
       "(<1376x1677 sparse matrix of type '<type 'numpy.int64'>'\n",
       " \twith 163919 stored elements in Compressed Sparse Row format>,\n",
       " <298x1677 sparse matrix of type '<type 'numpy.int64'>'\n",
       " \twith 37148 stored elements in Compressed Sparse Row format>,\n",
       " <298x1677 sparse matrix of type '<type 'numpy.int64'>'\n",
       " \twith 36130 stored elements in Compressed Sparse Row format>)"
      ]
     },
     "execution_count": 115,
     "metadata": {},
     "output_type": "execute_result"
    }
   ],
   "source": [
    "feats"
   ]
  },
  {
   "cell_type": "code",
   "execution_count": null,
   "metadata": {
    "collapsed": true
   },
   "outputs": [],
   "source": [
    "feats = extract_features(tr_mini['notes'], v_mini['notes'], t_mini['notes'])"
   ]
  },
  {
   "cell_type": "code",
   "execution_count": null,
   "metadata": {
    "collapsed": true
   },
   "outputs": [],
   "source": []
  },
  {
   "cell_type": "code",
   "execution_count": null,
   "metadata": {
    "collapsed": true
   },
   "outputs": [],
   "source": []
  },
  {
   "cell_type": "code",
   "execution_count": null,
   "metadata": {
    "collapsed": true
   },
   "outputs": [],
   "source": []
  }
 ],
 "metadata": {
  "anaconda-cloud": {},
  "kernelspec": {
   "display_name": "Python [Root]",
   "language": "python",
   "name": "Python [Root]"
  },
  "language_info": {
   "codemirror_mode": {
    "name": "ipython",
    "version": 2
   },
   "file_extension": ".py",
   "mimetype": "text/x-python",
   "name": "python",
   "nbconvert_exporter": "python",
   "pygments_lexer": "ipython2",
   "version": "2.7.12"
  }
 },
 "nbformat": 4,
 "nbformat_minor": 0
}
